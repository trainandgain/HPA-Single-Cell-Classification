{
 "cells": [
  {
   "cell_type": "markdown",
   "id": "03345049",
   "metadata": {},
   "source": [
    "## Stratified sampling\n",
    "\n",
    "[HPA implementation](https://www.kaggle.com/ronaldokun/multilabel-stratification-cv-and-ensemble)"
   ]
  },
  {
   "cell_type": "code",
   "execution_count": 3,
   "id": "394b3123",
   "metadata": {},
   "outputs": [],
   "source": [
    "import pandas as pd\n",
    "import numpy as np\n",
    "import seaborn as sns\n",
    "import matplotlib.pyplot as plt\n",
    "\n",
    "import sklearn\n",
    "from sklearn.model_selection import StratifiedShuffleSplit\n",
    "from skmultilearn.model_selection import IterativeStratification, iterative_train_test_split"
   ]
  },
  {
   "cell_type": "code",
   "execution_count": 4,
   "id": "84a2f85c",
   "metadata": {},
   "outputs": [],
   "source": [
    "path = '../input/train.csv'"
   ]
  },
  {
   "cell_type": "code",
   "execution_count": 5,
   "id": "20e5f537",
   "metadata": {},
   "outputs": [],
   "source": [
    "df = pd.read_csv(path)"
   ]
  },
  {
   "cell_type": "code",
   "execution_count": 9,
   "id": "dc010c88",
   "metadata": {},
   "outputs": [],
   "source": [
    "# Transform string label to 19 one-hot columns\n",
    "cols = [str(i) for i in list(range(19))]\n",
    "df[cols] = np.nan\n",
    "\n",
    "# Apply mapping\n",
    "def encoder(row):\n",
    "    labels = row['Label'].split('|')\n",
    "    for label in labels:\n",
    "        row[label] = 1    \n",
    "    return row\n",
    "\n",
    "df = df.apply(encoder, axis=1)\n",
    "df.fillna(0, inplace=True)"
   ]
  },
  {
   "cell_type": "code",
   "execution_count": 10,
   "id": "c5f7939c",
   "metadata": {
    "scrolled": true
   },
   "outputs": [
    {
     "name": "stdout",
     "output_type": "stream",
     "text": [
      "<class 'pandas.core.frame.DataFrame'>\n",
      "RangeIndex: 21806 entries, 0 to 21805\n",
      "Data columns (total 21 columns):\n",
      " #   Column  Non-Null Count  Dtype  \n",
      "---  ------  --------------  -----  \n",
      " 0   ID      21806 non-null  object \n",
      " 1   Label   21806 non-null  object \n",
      " 2   0       21806 non-null  float64\n",
      " 3   1       21806 non-null  float64\n",
      " 4   2       21806 non-null  float64\n",
      " 5   3       21806 non-null  float64\n",
      " 6   4       21806 non-null  float64\n",
      " 7   5       21806 non-null  float64\n",
      " 8   6       21806 non-null  float64\n",
      " 9   7       21806 non-null  float64\n",
      " 10  8       21806 non-null  float64\n",
      " 11  9       21806 non-null  float64\n",
      " 12  10      21806 non-null  float64\n",
      " 13  11      21806 non-null  float64\n",
      " 14  12      21806 non-null  float64\n",
      " 15  13      21806 non-null  float64\n",
      " 16  14      21806 non-null  float64\n",
      " 17  15      21806 non-null  float64\n",
      " 18  16      21806 non-null  float64\n",
      " 19  17      21806 non-null  float64\n",
      " 20  18      21806 non-null  float64\n",
      "dtypes: float64(19), object(2)\n",
      "memory usage: 3.5+ MB\n"
     ]
    }
   ],
   "source": [
    "df.info()"
   ]
  },
  {
   "cell_type": "code",
   "execution_count": 101,
   "id": "73f31e0a",
   "metadata": {
    "scrolled": true
   },
   "outputs": [
    {
     "data": {
      "image/png": "[encoded data removed]",
      "text/plain": [
       "<Figure size 432x288 with 1 Axes>"
      ]
     },
     "metadata": {
      "needs_background": "light"
     },
     "output_type": "display_data"
    }
   ],
   "source": [
    "ohe_labels = df.iloc[:, 2:]\n",
    "ohe_labels.sum().plot(kind='bar', title='Occurence of labels')\n",
    "plt.show()"
   ]
  },
  {
   "cell_type": "markdown",
   "id": "e6282c35",
   "metadata": {},
   "source": [
    "## Scikit-MultiLearn\n",
    "\n",
    "[iterative_stratification](http://scikit.ml/api/skmultilearn.model_selection.iterative_stratification.html#skmultilearn.model_selection.iterative_stratification.iterative_train_test_split)\n",
    "\n",
    "Because our incredibly imbalanced data it is important to have a good sampling strategy. This will ensure rare classes have a better chance of being trained on."
   ]
  },
  {
   "cell_type": "code",
   "execution_count": 113,
   "id": "247cc9eb",
   "metadata": {},
   "outputs": [],
   "source": [
    "# assign X and y to numpy arrays\n",
    "X, y = ohe_labels.index.values, ohe_labels.values"
   ]
  },
  {
   "cell_type": "code",
   "execution_count": 130,
   "id": "9c649e4f",
   "metadata": {},
   "outputs": [],
   "source": [
    "# how many folds?\n",
    "nfolds = 5"
   ]
  },
  {
   "cell_type": "code",
   "execution_count": 131,
   "id": "a1fdce59",
   "metadata": {},
   "outputs": [],
   "source": [
    "k_fold = IterativeStratification(n_splits=nfolds, order=2)\n",
    "splits = list(k_fold.split(X, y))"
   ]
  },
  {
   "cell_type": "markdown",
   "id": "29a9e21c",
   "metadata": {},
   "source": [
    "In the previous example I've used the order=1 option. Reading the documentation it says is better advised to use higher orders for the model to sample with replacement for more rare classes. Experiment with these values"
   ]
  },
  {
   "cell_type": "code",
   "execution_count": 132,
   "id": "c4281065",
   "metadata": {},
   "outputs": [
    {
     "data": {
      "text/plain": [
       "((17433,), (4373,))"
      ]
     },
     "execution_count": 132,
     "metadata": {},
     "output_type": "execute_result"
    }
   ],
   "source": [
    "splits[0][0].shape , splits[0][1].shape"
   ]
  },
  {
   "cell_type": "code",
   "execution_count": 133,
   "id": "3bc4d689",
   "metadata": {},
   "outputs": [
    {
     "data": {
      "text/html": [
       "<div>\n",
       "<style scoped>\n",
       "    .dataframe tbody tr th:only-of-type {\n",
       "        vertical-align: middle;\n",
       "    }\n",
       "\n",
       "    .dataframe tbody tr th {\n",
       "        vertical-align: top;\n",
       "    }\n",
       "\n",
       "    .dataframe thead th {\n",
       "        text-align: right;\n",
       "    }\n",
       "</style>\n",
       "<table border=\"1\" class=\"dataframe\">\n",
       "  <thead>\n",
       "    <tr style=\"text-align: right;\">\n",
       "      <th></th>\n",
       "      <th>ID</th>\n",
       "      <th>Label</th>\n",
       "      <th>0</th>\n",
       "      <th>1</th>\n",
       "      <th>2</th>\n",
       "      <th>3</th>\n",
       "      <th>4</th>\n",
       "      <th>5</th>\n",
       "      <th>6</th>\n",
       "      <th>7</th>\n",
       "      <th>...</th>\n",
       "      <th>10</th>\n",
       "      <th>11</th>\n",
       "      <th>12</th>\n",
       "      <th>13</th>\n",
       "      <th>14</th>\n",
       "      <th>15</th>\n",
       "      <th>16</th>\n",
       "      <th>17</th>\n",
       "      <th>18</th>\n",
       "      <th>Split</th>\n",
       "    </tr>\n",
       "  </thead>\n",
       "  <tbody>\n",
       "    <tr>\n",
       "      <th>0</th>\n",
       "      <td>5c27f04c-bb99-11e8-b2b9-ac1f6b6435d0</td>\n",
       "      <td>8|5|0</td>\n",
       "      <td>1.0</td>\n",
       "      <td>0.0</td>\n",
       "      <td>0.0</td>\n",
       "      <td>0.0</td>\n",
       "      <td>0.0</td>\n",
       "      <td>1.0</td>\n",
       "      <td>0.0</td>\n",
       "      <td>0.0</td>\n",
       "      <td>...</td>\n",
       "      <td>0.0</td>\n",
       "      <td>0.0</td>\n",
       "      <td>0.0</td>\n",
       "      <td>0.0</td>\n",
       "      <td>0.0</td>\n",
       "      <td>0.0</td>\n",
       "      <td>0.0</td>\n",
       "      <td>0.0</td>\n",
       "      <td>0.0</td>\n",
       "      <td>3</td>\n",
       "    </tr>\n",
       "    <tr>\n",
       "      <th>1</th>\n",
       "      <td>5fb643ee-bb99-11e8-b2b9-ac1f6b6435d0</td>\n",
       "      <td>14|0</td>\n",
       "      <td>1.0</td>\n",
       "      <td>0.0</td>\n",
       "      <td>0.0</td>\n",
       "      <td>0.0</td>\n",
       "      <td>0.0</td>\n",
       "      <td>0.0</td>\n",
       "      <td>0.0</td>\n",
       "      <td>0.0</td>\n",
       "      <td>...</td>\n",
       "      <td>0.0</td>\n",
       "      <td>0.0</td>\n",
       "      <td>0.0</td>\n",
       "      <td>0.0</td>\n",
       "      <td>1.0</td>\n",
       "      <td>0.0</td>\n",
       "      <td>0.0</td>\n",
       "      <td>0.0</td>\n",
       "      <td>0.0</td>\n",
       "      <td>1</td>\n",
       "    </tr>\n",
       "    <tr>\n",
       "      <th>2</th>\n",
       "      <td>60b57878-bb99-11e8-b2b9-ac1f6b6435d0</td>\n",
       "      <td>6|1</td>\n",
       "      <td>0.0</td>\n",
       "      <td>1.0</td>\n",
       "      <td>0.0</td>\n",
       "      <td>0.0</td>\n",
       "      <td>0.0</td>\n",
       "      <td>0.0</td>\n",
       "      <td>1.0</td>\n",
       "      <td>0.0</td>\n",
       "      <td>...</td>\n",
       "      <td>0.0</td>\n",
       "      <td>0.0</td>\n",
       "      <td>0.0</td>\n",
       "      <td>0.0</td>\n",
       "      <td>0.0</td>\n",
       "      <td>0.0</td>\n",
       "      <td>0.0</td>\n",
       "      <td>0.0</td>\n",
       "      <td>0.0</td>\n",
       "      <td>4</td>\n",
       "    </tr>\n",
       "    <tr>\n",
       "      <th>3</th>\n",
       "      <td>5c1a898e-bb99-11e8-b2b9-ac1f6b6435d0</td>\n",
       "      <td>16|10</td>\n",
       "      <td>0.0</td>\n",
       "      <td>0.0</td>\n",
       "      <td>0.0</td>\n",
       "      <td>0.0</td>\n",
       "      <td>0.0</td>\n",
       "      <td>0.0</td>\n",
       "      <td>0.0</td>\n",
       "      <td>0.0</td>\n",
       "      <td>...</td>\n",
       "      <td>1.0</td>\n",
       "      <td>0.0</td>\n",
       "      <td>0.0</td>\n",
       "      <td>0.0</td>\n",
       "      <td>0.0</td>\n",
       "      <td>0.0</td>\n",
       "      <td>1.0</td>\n",
       "      <td>0.0</td>\n",
       "      <td>0.0</td>\n",
       "      <td>1</td>\n",
       "    </tr>\n",
       "    <tr>\n",
       "      <th>4</th>\n",
       "      <td>5b931256-bb99-11e8-b2b9-ac1f6b6435d0</td>\n",
       "      <td>14|0</td>\n",
       "      <td>1.0</td>\n",
       "      <td>0.0</td>\n",
       "      <td>0.0</td>\n",
       "      <td>0.0</td>\n",
       "      <td>0.0</td>\n",
       "      <td>0.0</td>\n",
       "      <td>0.0</td>\n",
       "      <td>0.0</td>\n",
       "      <td>...</td>\n",
       "      <td>0.0</td>\n",
       "      <td>0.0</td>\n",
       "      <td>0.0</td>\n",
       "      <td>0.0</td>\n",
       "      <td>1.0</td>\n",
       "      <td>0.0</td>\n",
       "      <td>0.0</td>\n",
       "      <td>0.0</td>\n",
       "      <td>0.0</td>\n",
       "      <td>0</td>\n",
       "    </tr>\n",
       "  </tbody>\n",
       "</table>\n",
       "<p>5 rows × 22 columns</p>\n",
       "</div>"
      ],
      "text/plain": [
       "                                     ID  Label    0    1    2    3    4    5  \\\n",
       "0  5c27f04c-bb99-11e8-b2b9-ac1f6b6435d0  8|5|0  1.0  0.0  0.0  0.0  0.0  1.0   \n",
       "1  5fb643ee-bb99-11e8-b2b9-ac1f6b6435d0   14|0  1.0  0.0  0.0  0.0  0.0  0.0   \n",
       "2  60b57878-bb99-11e8-b2b9-ac1f6b6435d0    6|1  0.0  1.0  0.0  0.0  0.0  0.0   \n",
       "3  5c1a898e-bb99-11e8-b2b9-ac1f6b6435d0  16|10  0.0  0.0  0.0  0.0  0.0  0.0   \n",
       "4  5b931256-bb99-11e8-b2b9-ac1f6b6435d0   14|0  1.0  0.0  0.0  0.0  0.0  0.0   \n",
       "\n",
       "     6    7  ...   10   11   12   13   14   15   16   17   18  Split  \n",
       "0  0.0  0.0  ...  0.0  0.0  0.0  0.0  0.0  0.0  0.0  0.0  0.0      3  \n",
       "1  0.0  0.0  ...  0.0  0.0  0.0  0.0  1.0  0.0  0.0  0.0  0.0      1  \n",
       "2  1.0  0.0  ...  0.0  0.0  0.0  0.0  0.0  0.0  0.0  0.0  0.0      4  \n",
       "3  0.0  0.0  ...  1.0  0.0  0.0  0.0  0.0  0.0  1.0  0.0  0.0      1  \n",
       "4  0.0  0.0  ...  0.0  0.0  0.0  0.0  1.0  0.0  0.0  0.0  0.0      0  \n",
       "\n",
       "[5 rows x 22 columns]"
      ]
     },
     "execution_count": 133,
     "metadata": {},
     "output_type": "execute_result"
    }
   ],
   "source": [
    "fold_splits = np.zeros(df.shape[0]).astype(np.int)\n",
    "\n",
    "for i in range(nfolds):\n",
    "    fold_splits[splits[i][1]] = i\n",
    "\n",
    "df['Split'] = fold_splits\n",
    "df.head(5)"
   ]
  },
  {
   "cell_type": "code",
   "execution_count": 136,
   "id": "b0e38b09",
   "metadata": {},
   "outputs": [
    {
     "data": {
      "text/plain": [
       "array([0, 1, 2, 3, 4])"
      ]
     },
     "execution_count": 136,
     "metadata": {},
     "output_type": "execute_result"
    }
   ],
   "source": [
    "np.unique(df.Split.values)"
   ]
  },
  {
   "cell_type": "markdown",
   "id": "731bf5a5",
   "metadata": {},
   "source": [
    "# Example\n",
    "\n",
    "If we wanted to input fold 0 into the dataset we would do:"
   ]
  },
  {
   "cell_type": "code",
   "execution_count": 137,
   "id": "6f4190c0",
   "metadata": {},
   "outputs": [],
   "source": [
    "# example on fold 0\n",
    "fold = 0\n",
    "\n",
    "train_df = df[df.Split != fold]\n",
    "val_df = df[df.Split == fold]"
   ]
  },
  {
   "cell_type": "code",
   "execution_count": 139,
   "id": "90992794",
   "metadata": {},
   "outputs": [
    {
     "data": {
      "text/plain": [
       "<AxesSubplot:title={'center':'Occurence of labels'}>"
      ]
     },
     "execution_count": 139,
     "metadata": {},
     "output_type": "execute_result"
    },
    {
     "data": {
      "image/png": "[encoded data removed]",
      "text/plain": [
       "<Figure size 432x288 with 1 Axes>"
      ]
     },
     "metadata": {
      "needs_background": "light"
     },
     "output_type": "display_data"
    }
   ],
   "source": [
    "val_df.iloc[:, 2:].sum().plot(kind='bar', title='Occurence of labels')"
   ]
  },
  {
   "cell_type": "markdown",
   "id": "1f1d18df",
   "metadata": {},
   "source": [
    "## How to use this for cross-validation and training\n",
    "\n",
    "The following function organizes the code above return a list with nfolds where each item is a tuple with the train_df and val_df for that fold"
   ]
  },
  {
   "cell_type": "code",
   "execution_count": 142,
   "id": "2760c3b6",
   "metadata": {},
   "outputs": [],
   "source": [
    "def create_split_df(nfolds=5, order=1, path='../input/train.csv'):\n",
    "\n",
    "    df = pd.read_csv(path).set_index(\"ID\")\n",
    "\n",
    "    split_df = pd.get_dummies(df.Label.str.split(\"|\").explode())\n",
    "\n",
    "    split_df = split_df.groupby(split_df.index).sum() \n",
    "\n",
    "    X, y = split_df.index.values, split_df.values\n",
    "\n",
    "    k_fold = IterativeStratification(n_splits=nfolds, order=order)\n",
    "\n",
    "    splits = list(k_fold.split(X, y))\n",
    "\n",
    "    fold_splits = np.zeros(df.shape[0]).astype(np.int)\n",
    "\n",
    "    for i in range(nfolds):\n",
    "        fold_splits[splits[i][1]] = i\n",
    "\n",
    "    split_df['Split'] = fold_splits    \n",
    "\n",
    "    df_folds = []\n",
    "\n",
    "    for fold in range(nfolds):\n",
    "\n",
    "        df_fold = split_df.copy()\n",
    "            \n",
    "        train_df = df_fold[df_fold.Split != fold].drop('Split', axis=1).reset_index()\n",
    "        \n",
    "        val_df = df_fold[df_fold.Split == fold].drop('Split', axis=1).reset_index()\n",
    "        \n",
    "        df_folds.append((train_df, val_df))\n",
    "\n",
    "    return df_folds"
   ]
  },
  {
   "cell_type": "code",
   "execution_count": 143,
   "id": "7d003838",
   "metadata": {},
   "outputs": [],
   "source": [
    "splits = create_split_df(5, order=2)"
   ]
  },
  {
   "cell_type": "code",
   "execution_count": 150,
   "id": "dc048e00",
   "metadata": {},
   "outputs": [],
   "source": [
    "def get_split_dataloaders(split):\n",
    "    train_df, val_df = split\n",
    "                # replace with pytorch daaset\n",
    "    train_ds = HumanProteinDataset(train_df, transform=train_tfms)\n",
    "    val_ds = HumanProteinDataset(val_df, transform=valid_tfms)\n",
    "    \n",
    "    train_dl = DataLoader(train_ds, batch_size, shuffle=True, num_workers=mp.cpu_count(), pin_memory=True)\n",
    "    val_dl = DataLoader(val_ds, batch_size*2, num_workers=mp.cpu_count(), pin_memory=True)\n",
    "\n",
    "    return train_dl, val_dl"
   ]
  },
  {
   "cell_type": "code",
   "execution_count": 156,
   "id": "69249dc6",
   "metadata": {},
   "outputs": [
    {
     "name": "stdout",
     "output_type": "stream",
     "text": [
      "Split: 0\n",
      "Train shape: (17435, 20)\n",
      "Val shape: (4371, 20)\n",
      "Split: 1\n",
      "Train shape: (17436, 20)\n",
      "Val shape: (4370, 20)\n",
      "Split: 2\n",
      "Train shape: (17425, 20)\n",
      "Val shape: (4381, 20)\n",
      "Split: 3\n",
      "Train shape: (17479, 20)\n",
      "Val shape: (4327, 20)\n",
      "Split: 4\n",
      "Train shape: (17449, 20)\n",
      "Val shape: (4357, 20)\n"
     ]
    }
   ],
   "source": [
    "for i, split in enumerate(splits):\n",
    "    #train_dl, val_dl = get_split_dataloaders(split)\n",
    "    # do something with train and validation\n",
    "    print('Split: {}'.format(i))\n",
    "    print('Train shape: {}'.format(splits[i][0].shape))\n",
    "    print('Val shape: {}'.format(splits[i][1].shape))"
   ]
  }
 ],
 "metadata": {
  "kernelspec": {
   "display_name": "ml",
   "language": "python",
   "name": "ml"
  },
  "language_info": {
   "codemirror_mode": {
    "name": "ipython",
    "version": 3
   },
   "file_extension": ".py",
   "mimetype": "text/x-python",
   "name": "python",
   "nbconvert_exporter": "python",
   "pygments_lexer": "ipython3",
   "version": "3.8.8"
  }
 },
 "nbformat": 4,
 "nbformat_minor": 5
}
