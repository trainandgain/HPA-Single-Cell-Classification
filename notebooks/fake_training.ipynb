{
 "cells": [
  {
   "cell_type": "markdown",
   "id": "3cab3826",
   "metadata": {},
   "source": [
    "# Fake Training\n",
    "\n",
    "For our problem we have the output from the model as:\n",
    "\n",
    "$[N, C]$\n",
    "\n",
    "And our labels are one hot encoding are the same:\n",
    "\n",
    "$[N, C]$ \n",
    "\n",
    "where N is the number of samples, C is either {1, 0}.\n",
    "\n",
    "In PyTorch torch.nn.BCELoss() is [Binary Cross Entropy Loss](https://pytorch.org/docs/stable/generated/torch.nn.BCELoss.html):\n",
    "\n",
    "Which expects the input:\n",
    "\n",
    "***\n",
    "\n",
    "Input: (N, *)(N,∗) where *∗ means, any number of additional dimensions\n",
    "\n",
    "Target: (N, *)(N,∗) , same shape as the input\n",
    "\n",
    "Output: scalar. If reduction is 'none', then (N, *)(N,∗) , same shape as input.\n",
    "\n",
    "***\n",
    "\n",
    "We want to apply the sigmoid function to the inputs to ensure they are in the 0 -> 1 range.\n",
    "\n",
    "We could also just use nn.BCE() which includes this.\n",
    "\n",
    "[A good example](https://jbencook.com/cross-entropy-loss-in-pytorch/)"
   ]
  },
  {
   "cell_type": "code",
   "execution_count": 49,
   "id": "6944d10e",
   "metadata": {},
   "outputs": [],
   "source": [
    "# imports\n",
    "import torch\n",
    "from torch import nn\n",
    "from torchvision.models import resnet18\n",
    "from torch.utils.data import Dataset\n",
    "from torchvision import datasets\n",
    "from torch.utils.data import DataLoader\n",
    "\n",
    "# vis\n",
    "import matplotlib.pyplot as plt\n",
    "import numpy as np"
   ]
  },
  {
   "cell_type": "markdown",
   "id": "11a0d48c",
   "metadata": {},
   "source": [
    "# Fake Dataset\n",
    "We need a fake dataset which contains lots of random 4 channel images."
   ]
  },
  {
   "cell_type": "code",
   "execution_count": 6,
   "id": "14992f1b",
   "metadata": {},
   "outputs": [],
   "source": [
    "m = nn.Sigmoid()"
   ]
  },
  {
   "cell_type": "code",
   "execution_count": 7,
   "id": "75d54a81",
   "metadata": {},
   "outputs": [
    {
     "data": {
      "text/plain": [
       "tensor([0.2974, 0.5517, 0.5088, 0.5314, 0.6474, 0.4521, 0.4651, 0.4481, 0.2105,\n",
       "        0.1856, 0.7935, 0.5610, 0.3532, 0.5682, 0.4106, 0.8076, 0.5290, 0.3781,\n",
       "        0.2804])"
      ]
     },
     "execution_count": 7,
     "metadata": {},
     "output_type": "execute_result"
    }
   ],
   "source": [
    "m(torch.randn(19))"
   ]
  },
  {
   "cell_type": "code",
   "execution_count": 8,
   "id": "6aee75bc",
   "metadata": {},
   "outputs": [],
   "source": [
    "class CustomImageDataset(Dataset):\n",
    "    def __init__(self, transform=None, target_transform=None):\n",
    "        self.transform = transform\n",
    "        self.target_transform = target_transform\n",
    "        self.m = nn.Sigmoid()\n",
    "\n",
    "    def __len__(self):\n",
    "        return 1000\n",
    "\n",
    "    def __getitem__(self, idx):\n",
    "        image = torch.randn([4, 512, 512])\n",
    "        label = self.m(torch.randn(19))\n",
    "        if self.transform:\n",
    "            image = self.transform(image)\n",
    "        if self.target_transform:\n",
    "            label = self.target_transform(label)\n",
    "        sample = {\"image\": image, \"label\": label}\n",
    "        return (image, label)"
   ]
  },
  {
   "cell_type": "code",
   "execution_count": 9,
   "id": "b0c6db4e",
   "metadata": {},
   "outputs": [],
   "source": [
    "fake_dataset = CustomImageDataset(transform=None, target_transform=None)\n",
    "fake_loader = DataLoader(fake_dataset, batch_size=64, shuffle=True)"
   ]
  },
  {
   "cell_type": "code",
   "execution_count": 10,
   "id": "92c3e2ce",
   "metadata": {},
   "outputs": [],
   "source": [
    "fake_images, fake_labels = next(iter(fake_loader))"
   ]
  },
  {
   "cell_type": "code",
   "execution_count": 11,
   "id": "71f9dd4e",
   "metadata": {},
   "outputs": [
    {
     "data": {
      "text/plain": [
       "torch.Size([64, 4, 512, 512])"
      ]
     },
     "execution_count": 11,
     "metadata": {},
     "output_type": "execute_result"
    }
   ],
   "source": [
    "fake_images.shape"
   ]
  },
  {
   "cell_type": "code",
   "execution_count": 12,
   "id": "51e1ba07",
   "metadata": {
    "scrolled": false
   },
   "outputs": [
    {
     "data": {
      "text/plain": [
       "torch.Size([64, 19])"
      ]
     },
     "execution_count": 12,
     "metadata": {},
     "output_type": "execute_result"
    }
   ],
   "source": [
    "fake_labels.shape"
   ]
  },
  {
   "cell_type": "markdown",
   "id": "85f3640c",
   "metadata": {},
   "source": [
    "As you can see we get random labels and images, our loss function may be all over the place but that prove it works."
   ]
  },
  {
   "cell_type": "markdown",
   "id": "9f70ce85",
   "metadata": {},
   "source": [
    "# Fake Model"
   ]
  },
  {
   "cell_type": "code",
   "execution_count": 13,
   "id": "26a008f0",
   "metadata": {},
   "outputs": [],
   "source": [
    "class NeuralNetwork(nn.Module):\n",
    "    def __init__(self, NUM_CLASSES, DROPOUT_RATE):\n",
    "        super(NeuralNetwork, self).__init__()\n",
    "        self.convolutions = nn.Sequential(nn.Conv2d(4, 64, kernel_size=(7, 7), stride=(2, 2), padding=(3, 3), bias=False),\n",
    "                                          *(list(resnet18().children())[1:-1]))\n",
    "        self.dropout = nn.Dropout(DROPOUT_RATE)\n",
    "        self.dense = nn.Linear(512, NUM_CLASSES)\n",
    "        self.out = nn.Sigmoid()\n",
    "\n",
    "    def forward(self, X):\n",
    "        batch_size = X.shape[0]\n",
    "        # Extracts 512x1 feature vector from pretrained resnet18 conv layers\n",
    "        x = self.convolutions(X).reshape(batch_size, -1)\n",
    "        # Fully connected dense layer to 19 class output\n",
    "        output = self.dense(self.dropout(x))\n",
    "        # Sigmoid activations on output to infer class probabilities\n",
    "        output_probs = self.out(output)\n",
    "        return output_probs"
   ]
  },
  {
   "cell_type": "code",
   "execution_count": 14,
   "id": "f7623619",
   "metadata": {},
   "outputs": [
    {
     "data": {
      "text/plain": [
       "torch.Size([5, 19])"
      ]
     },
     "execution_count": 14,
     "metadata": {},
     "output_type": "execute_result"
    }
   ],
   "source": [
    "model = NeuralNetwork(19, 0.1)\n",
    "X = torch.randn([5, 4, 512, 512])\n",
    "\n",
    "pred = model(X)\n",
    "pred.shape"
   ]
  },
  {
   "cell_type": "code",
   "execution_count": 15,
   "id": "4ef74ad2",
   "metadata": {
    "scrolled": true
   },
   "outputs": [
    {
     "data": {
      "text/plain": [
       "tensor([[0.3839, 0.5203, 0.7406, 0.4206, 0.4875, 0.5890, 0.4729, 0.6067, 0.6170,\n",
       "         0.2123, 0.5601, 0.6549, 0.5149, 0.5089, 0.4273, 0.4545, 0.4972, 0.3334,\n",
       "         0.5236],\n",
       "        [0.3370, 0.6401, 0.7354, 0.4536, 0.5475, 0.5224, 0.4980, 0.6303, 0.5895,\n",
       "         0.2521, 0.5355, 0.6369, 0.4139, 0.5471, 0.3970, 0.4957, 0.5010, 0.3926,\n",
       "         0.4911],\n",
       "        [0.4606, 0.6381, 0.7047, 0.3945, 0.4880, 0.5686, 0.4060, 0.6608, 0.5578,\n",
       "         0.3162, 0.5196, 0.6032, 0.4896, 0.5697, 0.3799, 0.4580, 0.5451, 0.3684,\n",
       "         0.5342],\n",
       "        [0.4146, 0.5901, 0.7612, 0.3581, 0.5148, 0.6330, 0.4894, 0.6079, 0.5471,\n",
       "         0.2241, 0.5006, 0.6214, 0.3935, 0.5241, 0.4513, 0.5181, 0.5179, 0.3387,\n",
       "         0.4520],\n",
       "        [0.4193, 0.6261, 0.7751, 0.4414, 0.5079, 0.6156, 0.3594, 0.6344, 0.6109,\n",
       "         0.2686, 0.5411, 0.6542, 0.3818, 0.5344, 0.3840, 0.4987, 0.5667, 0.4543,\n",
       "         0.5526]], grad_fn=<SigmoidBackward>)"
      ]
     },
     "execution_count": 15,
     "metadata": {},
     "output_type": "execute_result"
    }
   ],
   "source": [
    "pred"
   ]
  },
  {
   "cell_type": "markdown",
   "id": "961bfdde",
   "metadata": {},
   "source": [
    "# Fake Loss Function\n",
    "Using fake model, let's get the fake loss function working"
   ]
  },
  {
   "cell_type": "code",
   "execution_count": 16,
   "id": "5acadc0e",
   "metadata": {},
   "outputs": [],
   "source": [
    "# Loss function\n",
    "loss_fn = nn.BCELoss()"
   ]
  },
  {
   "cell_type": "code",
   "execution_count": 17,
   "id": "684eb343",
   "metadata": {},
   "outputs": [
    {
     "data": {
      "text/plain": [
       "torch.Size([5, 19])"
      ]
     },
     "execution_count": 17,
     "metadata": {},
     "output_type": "execute_result"
    }
   ],
   "source": [
    "# First we have to make fake Ground Truths\n",
    "ground_truth = torch.full((5, 19), 1)\n",
    "ground_truth.shape"
   ]
  },
  {
   "cell_type": "code",
   "execution_count": 18,
   "id": "4c891ba0",
   "metadata": {},
   "outputs": [
    {
     "data": {
      "text/plain": [
       "tensor([[1, 1, 1, 1, 1, 1, 1, 1, 1, 1, 1, 1, 1, 1, 1, 1, 1, 1, 1],\n",
       "        [1, 1, 1, 1, 1, 1, 1, 1, 1, 1, 1, 1, 1, 1, 1, 1, 1, 1, 1],\n",
       "        [1, 1, 1, 1, 1, 1, 1, 1, 1, 1, 1, 1, 1, 1, 1, 1, 1, 1, 1],\n",
       "        [1, 1, 1, 1, 1, 1, 1, 1, 1, 1, 1, 1, 1, 1, 1, 1, 1, 1, 1],\n",
       "        [1, 1, 1, 1, 1, 1, 1, 1, 1, 1, 1, 1, 1, 1, 1, 1, 1, 1, 1]])"
      ]
     },
     "execution_count": 18,
     "metadata": {},
     "output_type": "execute_result"
    }
   ],
   "source": [
    "ground_truth"
   ]
  },
  {
   "cell_type": "code",
   "execution_count": 19,
   "id": "8279be16",
   "metadata": {},
   "outputs": [
    {
     "data": {
      "text/plain": [
       "tensor(0.7097, grad_fn=<BinaryCrossEntropyBackward>)"
      ]
     },
     "execution_count": 19,
     "metadata": {},
     "output_type": "execute_result"
    }
   ],
   "source": [
    "# compute loss \n",
    "loss = loss_fn(pred, ground_truth.float())\n",
    "loss"
   ]
  },
  {
   "cell_type": "markdown",
   "id": "3fd4d3cb",
   "metadata": {},
   "source": [
    "We then can use loss.backward() to update the change in loss for the weights.\n",
    "\n",
    "<code>loss.backward() computes dloss/dx for every parameter x which has requires_grad=True. These are accumulated into x.grad for every parameter x. In pseudo-code:\n",
    "\n",
    "x.grad += dloss/dx\n",
    "optimizer.step updates the value of x using the gradient x.grad. For example, the SGD optimizer performs:\n",
    "x += -lr * x.grad\n",
    "optimizer.zero_grad() clears x.grad for every parameter x in the optimizer. It’s important to call this before loss.backward(), otherwise you’ll accumulate the gradients from multiple passes.</code>"
   ]
  },
  {
   "cell_type": "markdown",
   "id": "2d8f9eba",
   "metadata": {},
   "source": [
    "# Fake Optimiser\n",
    "\n",
    "N.B In PyTorch, we need to set the gradients to zero before starting to do backpropragation because PyTorch accumulates the gradients on subsequent backward passes. This is convenient while training RNNs. So, the default action is to accumulate (i.e. sum) the gradients on every loss.backward() call.\n",
    "\n",
    "Because of this, when you start your training loop, ideally you should zero out the gradients so that you do the parameter update correctly. Else the gradient would point in some other direction than the intended direction towards the minimum (or maximum, in case of maximization objectives).\n",
    "\n",
    "[Why Choose Adam](https://debuggercafe.com/adam-algorithm-for-deep-learning-optimization/)"
   ]
  },
  {
   "cell_type": "code",
   "execution_count": 20,
   "id": "b9c588cd",
   "metadata": {},
   "outputs": [],
   "source": [
    "# init\n",
    "optim = torch.optim.Adam(model.parameters(), lr=0.0001) # we could put a scheduler here."
   ]
  },
  {
   "cell_type": "markdown",
   "id": "9a26a51b",
   "metadata": {},
   "source": [
    "When we use te optimizer what we are doing is [because](https://deeplearningdemystified.com/article/fdl-4) we want to avoid certain traps in achieving minimal loss (local optima, changing how certain weights are updated).\n",
    "\n",
    "To use the optimiser we first initialize (as above) and and then in the training loop:\n",
    "\n",
    "<code>#Backpropagation\n",
    "optimizer.zero_grad()\n",
    "loss.backward()\n",
    "optimizer.step()</code>"
   ]
  },
  {
   "cell_type": "markdown",
   "id": "continuing-bradley",
   "metadata": {},
   "source": [
    "# Fake Accuracy\n",
    "\n",
    "To calculate accuracy we add up all the 'correct' guesses and divide by len of dataset."
   ]
  },
  {
   "cell_type": "code",
   "execution_count": 28,
   "id": "sexual-transparency",
   "metadata": {},
   "outputs": [
    {
     "name": "stdout",
     "output_type": "stream",
     "text": [
      "torch.Size([5, 19])\n"
     ]
    }
   ],
   "source": [
    "print(pred.shape)"
   ]
  },
  {
   "cell_type": "code",
   "execution_count": 27,
   "id": "southeast-installation",
   "metadata": {},
   "outputs": [
    {
     "name": "stdout",
     "output_type": "stream",
     "text": [
      "torch.Size([5, 19])\n"
     ]
    }
   ],
   "source": [
    "print(ground_truth.shape)"
   ]
  },
  {
   "cell_type": "code",
   "execution_count": null,
   "id": "located-livestock",
   "metadata": {},
   "outputs": [],
   "source": [
    "size = len(dataloader.dataset) # in actual thing"
   ]
  },
  {
   "cell_type": "code",
   "execution_count": 37,
   "id": "peripheral-proposal",
   "metadata": {},
   "outputs": [
    {
     "data": {
      "text/plain": [
       "52"
      ]
     },
     "execution_count": 37,
     "metadata": {},
     "output_type": "execute_result"
    }
   ],
   "source": [
    "correct = 0\n",
    "correct += torch.sum((pred >= 0.5).float() == ground_truth.float()).item()\n",
    "correct"
   ]
  },
  {
   "cell_type": "code",
   "execution_count": 40,
   "id": "sound-coalition",
   "metadata": {
    "scrolled": true
   },
   "outputs": [
    {
     "data": {
      "text/plain": [
       "0.5473684210526316"
      ]
     },
     "execution_count": 40,
     "metadata": {},
     "output_type": "execute_result"
    }
   ],
   "source": [
    "# acc = correct / size * 19 labels\n",
    "acc = correct / (5 * 19)\n",
    "acc"
   ]
  },
  {
   "cell_type": "markdown",
   "id": "e2627a03",
   "metadata": {},
   "source": [
    "# Fake Training Loop\n",
    "Using fake inputs and predicitons I am going to show what the training loop should look like."
   ]
  },
  {
   "cell_type": "code",
   "execution_count": 41,
   "id": "a7963952",
   "metadata": {},
   "outputs": [],
   "source": [
    "def train_loop(model, optim, dataloader, loss_fn, USE_GPU=False):\n",
    "    # How Long is our dataset\n",
    "    size = len(dataloader.dataset)\n",
    "    \n",
    "    # Firstly set model to training\n",
    "    model.train()\n",
    "    # if we are using a GPU send the model to device\n",
    "    if USE_GPU:\n",
    "        model = model.cuda()\n",
    "    \n",
    "    # Logging and Stats\n",
    "    loss_log = list()\n",
    "    \n",
    "    # Set gradients to be trainable\n",
    "    with torch.set_grad_enabled(True):\n",
    "        for batch_num, (X,y) in enumerate(dataloader):\n",
    "            # If cuda send to cuda\n",
    "            if USE_GPU:\n",
    "                X = X.cuda()\n",
    "                y = y.cuda()\n",
    "\n",
    "            # Compute prediction and loss\n",
    "            pred = model(X)\n",
    "            loss = loss_fn(pred, y)\n",
    "            \n",
    "            # Backpropagation\n",
    "            optimizer.zero_grad()\n",
    "            loss.backward()\n",
    "            optimizer.step()\n",
    "            \n",
    "            # Logging and Stats\n",
    "            if batch_num % 100 == 0:\n",
    "                loss, current = loss.item(), batch_num * len(X)\n",
    "                loss_log.append(loss)\n",
    "                print(f\"loss: {loss:>7f}  [{current:>5d}/{size:>5d}]\")\n",
    "                \n",
    "    return(loss_log)"
   ]
  },
  {
   "cell_type": "markdown",
   "id": "3b12b3c0",
   "metadata": {},
   "source": [
    "# Fake Testing Loop"
   ]
  },
  {
   "cell_type": "code",
   "execution_count": 42,
   "id": "b3d742c8",
   "metadata": {},
   "outputs": [],
   "source": [
    "def test_loop(model, optim, dataloader, loss_fn, USE_GPU=False):\n",
    "    # How long is our dataset\n",
    "    size = len(dataloader.dataset)\n",
    "    test_loss, correct = 0, 0\n",
    "    \n",
    "    # model testing\n",
    "    model.eval()\n",
    "    \n",
    "    if USE_GPU:\n",
    "        model = model.cuda()\n",
    "    with torch.no_grad():\n",
    "        for X, y in dataloader:\n",
    "            if USE_GPU:\n",
    "                X = X.cuda()\n",
    "                y = y.cuda()\n",
    "                \n",
    "            pred = model(X)\n",
    "            test_loss += loss_fn(pred, y).item()\n",
    "            correct += torch.sum((pred >= 0.5).float() == y.float()).item()\n",
    "\n",
    "    test_loss /= size\n",
    "    correct /= (size * 19)\n",
    "    print(f\"Test Error: \\n Accuracy: {(100*correct):>0.1f}%, Avg loss: {test_loss:>8f} \\n\")"
   ]
  },
  {
   "cell_type": "markdown",
   "id": "5b27fccc",
   "metadata": {},
   "source": [
    "# Fake Subsets"
   ]
  },
  {
   "cell_type": "code",
   "execution_count": 43,
   "id": "b1d636fa",
   "metadata": {},
   "outputs": [
    {
     "name": "stdout",
     "output_type": "stream",
     "text": [
      "800\n",
      "200\n"
     ]
    }
   ],
   "source": [
    "# batch size\n",
    "batch_s = 4\n",
    "\n",
    "# train dataset & dataloader\n",
    "dataset_train = torch.utils.data.Subset(fake_dataset, \n",
    "                                        list(range(0,800)))\n",
    "\n",
    "train_loader = torch.utils.data.DataLoader(dataset_train,\n",
    "                                          batch_size=batch_s,\n",
    "                                          shuffle=True)\n",
    "\n",
    "# test dataset & dataloader\n",
    "dataset_test = torch.utils.data.Subset(fake_dataset,\n",
    "                                     list(range(800, len(fake_dataset))))\n",
    "test_loader = torch.utils.data.DataLoader(dataset_test,\n",
    "                                          batch_size=1,\n",
    "                                          shuffle=False)\n",
    "print(len(dataset_train))\n",
    "print(len(dataset_test))\n",
    "\n",
    "dataloaders = {\n",
    "    \"train\": train_loader,\n",
    "    \"test\": test_loader\n",
    "}"
   ]
  },
  {
   "cell_type": "markdown",
   "id": "01497219",
   "metadata": {},
   "source": [
    "# Fake Run"
   ]
  },
  {
   "cell_type": "code",
   "execution_count": 45,
   "id": "cbeede76",
   "metadata": {
    "scrolled": false
   },
   "outputs": [
    {
     "name": "stdout",
     "output_type": "stream",
     "text": [
      "Epoch 1\n",
      "-------------------------------\n",
      "loss: 0.687477  [    0/  800]\n",
      "loss: 0.691842  [  400/  800]\n",
      "Test Error: \n",
      " Accuracy: 0.0%, Avg loss: 0.694582 \n",
      "\n",
      "Epoch 2\n",
      "-------------------------------\n",
      "loss: 0.696447  [    0/  800]\n",
      "loss: 0.692596  [  400/  800]\n",
      "Test Error: \n",
      " Accuracy: 0.0%, Avg loss: 0.696067 \n",
      "\n",
      "Epoch 3\n",
      "-------------------------------\n",
      "loss: 0.693917  [    0/  800]\n",
      "loss: 0.695454  [  400/  800]\n",
      "Test Error: \n",
      " Accuracy: 0.0%, Avg loss: 0.695584 \n",
      "\n",
      "Epoch 4\n",
      "-------------------------------\n",
      "loss: 0.694453  [    0/  800]\n",
      "loss: 0.696476  [  400/  800]\n",
      "Test Error: \n",
      " Accuracy: 0.0%, Avg loss: 0.698328 \n",
      "\n",
      "Epoch 5\n",
      "-------------------------------\n",
      "loss: 0.702428  [    0/  800]\n",
      "loss: 0.690511  [  400/  800]\n",
      "Test Error: \n",
      " Accuracy: 0.0%, Avg loss: 0.698118 \n",
      "\n",
      "Done!\n"
     ]
    }
   ],
   "source": [
    "# Config\n",
    "EPOCHS = 5\n",
    "optimizer = torch.optim.Adam(model.parameters(), lr=0.0001)\n",
    "loss_fn = nn.BCELoss()\n",
    "\n",
    "best_acc = 0.0\n",
    "log = list()\n",
    "\n",
    "for t in range(EPOCHS):\n",
    "    print(f\"Epoch {t+1}\\n-------------------------------\")\n",
    "    loss_log = train_loop(model, optimizer, dataloaders['train'], loss_fn, USE_GPU=True)\n",
    "    log = log + loss_log\n",
    "    test_loop(model, optimizer, dataloaders['test'], loss_fn, USE_GPU=True)\n",
    "    \n",
    "print(\"Done!\")"
   ]
  },
  {
   "cell_type": "code",
   "execution_count": 51,
   "id": "national-trainer",
   "metadata": {},
   "outputs": [
    {
     "data": {
      "text/plain": [
       "Text(0.5, 1.0, 'Loss over Epochs')"
      ]
     },
     "execution_count": 51,
     "metadata": {},
     "output_type": "execute_result"
    },
    {
     "data": {
      "image/png": "[encoded data removed]",
      "text/plain": [
       "<Figure size 432x288 with 1 Axes>"
      ]
     },
     "metadata": {
      "needs_background": "light"
     },
     "output_type": "display_data"
    }
   ],
   "source": [
    "plt.plot(np.arange(0, len(loss_log), 1), loss_log)\n",
    "plt.ylabel('Loss')\n",
    "plt.xlabel('# of Epochs')\n",
    "plt.title('Loss over Epochs')"
   ]
  }
 ],
 "metadata": {
  "kernelspec": {
   "display_name": "Python [conda env:cell]",
   "language": "python",
   "name": "conda-env-cell-py"
  },
  "language_info": {
   "codemirror_mode": {
    "name": "ipython",
    "version": 3
   },
   "file_extension": ".py",
   "mimetype": "text/x-python",
   "name": "python",
   "nbconvert_exporter": "python",
   "pygments_lexer": "ipython3",
   "version": "3.9.2"
  }
 },
 "nbformat": 4,
 "nbformat_minor": 5
}
