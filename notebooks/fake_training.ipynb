{
 "cells": [
  {
   "cell_type": "markdown",
   "id": "3cab3826",
   "metadata": {},
   "source": [
    "# Fake Training\n",
    "\n",
    "For our problem we have the output from the model as:\n",
    "\n",
    "$[N, C]$\n",
    "\n",
    "And our labels are one hot encoding are the same:\n",
    "\n",
    "$[N, C]$ \n",
    "\n",
    "where N is the number of samples, C is either {1, 0}.\n",
    "\n",
    "In PyTorch torch.nn.BCELoss() is [Binary Cross Entropy Loss](https://pytorch.org/docs/stable/generated/torch.nn.BCELoss.html):\n",
    "\n",
    "Which expects the input:\n",
    "\n",
    "***\n",
    "\n",
    "Input: (N, *)(N,∗) where *∗ means, any number of additional dimensions\n",
    "\n",
    "Target: (N, *)(N,∗) , same shape as the input\n",
    "\n",
    "Output: scalar. If reduction is 'none', then (N, *)(N,∗) , same shape as input.\n",
    "\n",
    "***\n",
    "\n",
    "We want to apply the sigmoid function to the inputs to ensure they are in the 0 -> 1 range.\n",
    "\n",
    "We could also just use nn.BCE() which includes this.\n",
    "\n",
    "[A good example](https://jbencook.com/cross-entropy-loss-in-pytorch/)"
   ]
  },
  {
   "cell_type": "code",
   "execution_count": 1,
   "id": "6944d10e",
   "metadata": {},
   "outputs": [],
   "source": [
    "# imports\n",
    "import torch\n",
    "from torch import nn\n",
    "from torchvision.models import resnet18\n",
    "from torch.utils.data import Dataset\n",
    "from torchvision import datasets\n",
    "from torch.utils.data import DataLoader\n",
    "\n",
    "# vis\n",
    "import matplotlib.pyplot as plt\n",
    "import numpy as np"
   ]
  },
  {
   "cell_type": "markdown",
   "id": "11a0d48c",
   "metadata": {},
   "source": [
    "# Fake Dataset\n",
    "We need a fake dataset which contains lots of random 4 channel images."
   ]
  },
  {
   "cell_type": "code",
   "execution_count": 2,
   "id": "14992f1b",
   "metadata": {},
   "outputs": [],
   "source": [
    "m = nn.Sigmoid()"
   ]
  },
  {
   "cell_type": "code",
   "execution_count": 3,
   "id": "75d54a81",
   "metadata": {},
   "outputs": [
    {
     "data": {
      "text/plain": [
       "tensor([0.5863, 0.3891, 0.3761, 0.4355, 0.7719, 0.4832, 0.3970, 0.8288, 0.6467,\n",
       "        0.2531, 0.6923, 0.6348, 0.8546, 0.6840, 0.6340, 0.5333, 0.2957, 0.6036,\n",
       "        0.5755])"
      ]
     },
     "execution_count": 3,
     "metadata": {},
     "output_type": "execute_result"
    }
   ],
   "source": [
    "m(torch.randn(19))"
   ]
  },
  {
   "cell_type": "code",
   "execution_count": 4,
   "id": "6aee75bc",
   "metadata": {},
   "outputs": [],
   "source": [
    "class CustomImageDataset(Dataset):\n",
    "    def __init__(self, transform=None, target_transform=None):\n",
    "        self.transform = transform\n",
    "        self.target_transform = target_transform\n",
    "        self.m = nn.Sigmoid()\n",
    "\n",
    "    def __len__(self):\n",
    "        return 1000\n",
    "\n",
    "    def __getitem__(self, idx):\n",
    "        image = torch.randn([4, 512, 512])\n",
    "        label = self.m(torch.randn(19))\n",
    "        if self.transform:\n",
    "            image = self.transform(image)\n",
    "        if self.target_transform:\n",
    "            label = self.target_transform(label)\n",
    "        sample = {\"image\": image, \"label\": label}\n",
    "        return (image, label)"
   ]
  },
  {
   "cell_type": "code",
   "execution_count": 5,
   "id": "b0c6db4e",
   "metadata": {},
   "outputs": [],
   "source": [
    "fake_dataset = CustomImageDataset(transform=None, target_transform=None)\n",
    "fake_loader = DataLoader(fake_dataset, batch_size=64, shuffle=True)"
   ]
  },
  {
   "cell_type": "code",
   "execution_count": 6,
   "id": "92c3e2ce",
   "metadata": {},
   "outputs": [],
   "source": [
    "fake_images, fake_labels = next(iter(fake_loader))"
   ]
  },
  {
   "cell_type": "code",
   "execution_count": 7,
   "id": "71f9dd4e",
   "metadata": {},
   "outputs": [
    {
     "data": {
      "text/plain": [
       "torch.Size([64, 4, 512, 512])"
      ]
     },
     "execution_count": 7,
     "metadata": {},
     "output_type": "execute_result"
    }
   ],
   "source": [
    "fake_images.shape"
   ]
  },
  {
   "cell_type": "code",
   "execution_count": 8,
   "id": "51e1ba07",
   "metadata": {
    "scrolled": false
   },
   "outputs": [
    {
     "data": {
      "text/plain": [
       "torch.Size([64, 19])"
      ]
     },
     "execution_count": 8,
     "metadata": {},
     "output_type": "execute_result"
    }
   ],
   "source": [
    "fake_labels.shape"
   ]
  },
  {
   "cell_type": "markdown",
   "id": "85f3640c",
   "metadata": {},
   "source": [
    "As you can see we get random labels and images, our loss function may be all over the place but that prove it works."
   ]
  },
  {
   "cell_type": "markdown",
   "id": "9f70ce85",
   "metadata": {},
   "source": [
    "# Fake Model"
   ]
  },
  {
   "cell_type": "code",
   "execution_count": 9,
   "id": "26a008f0",
   "metadata": {},
   "outputs": [],
   "source": [
    "class NeuralNetwork(nn.Module):\n",
    "    def __init__(self, NUM_CLASSES, DROPOUT_RATE):\n",
    "        super(NeuralNetwork, self).__init__()\n",
    "        self.convolutions = nn.Sequential(nn.Conv2d(4, 64, kernel_size=(7, 7), stride=(2, 2), padding=(3, 3), bias=False),\n",
    "                                          *(list(resnet18().children())[1:-1]))\n",
    "        self.dropout = nn.Dropout(DROPOUT_RATE)\n",
    "        self.dense = nn.Linear(512, NUM_CLASSES)\n",
    "        self.out = nn.Sigmoid()\n",
    "\n",
    "    def forward(self, X):\n",
    "        batch_size = X.shape[0]\n",
    "        # Extracts 512x1 feature vector from pretrained resnet18 conv layers\n",
    "        x = self.convolutions(X).reshape(batch_size, -1)\n",
    "        # Fully connected dense layer to 19 class output\n",
    "        output = self.dense(self.dropout(x))\n",
    "        # Sigmoid activations on output to infer class probabilities\n",
    "        output_probs = self.out(output)\n",
    "        return output_probs"
   ]
  },
  {
   "cell_type": "code",
   "execution_count": 10,
   "id": "f7623619",
   "metadata": {},
   "outputs": [
    {
     "data": {
      "text/plain": [
       "torch.Size([5, 19])"
      ]
     },
     "execution_count": 10,
     "metadata": {},
     "output_type": "execute_result"
    }
   ],
   "source": [
    "model = NeuralNetwork(19, 0.1)\n",
    "X = torch.randn([5, 4, 512, 512])\n",
    "\n",
    "pred = model(X)\n",
    "pred.shape"
   ]
  },
  {
   "cell_type": "code",
   "execution_count": 11,
   "id": "4ef74ad2",
   "metadata": {
    "scrolled": true
   },
   "outputs": [
    {
     "data": {
      "text/plain": [
       "tensor([[0.4506, 0.3873, 0.4879, 0.3372, 0.7181, 0.4911, 0.6716, 0.4802, 0.4018,\n",
       "         0.3606, 0.4545, 0.3909, 0.7131, 0.4393, 0.4934, 0.4339, 0.3454, 0.2458,\n",
       "         0.4577],\n",
       "        [0.3775, 0.3640, 0.5062, 0.3624, 0.6508, 0.5775, 0.6875, 0.5595, 0.4165,\n",
       "         0.3349, 0.4511, 0.4914, 0.5917, 0.3830, 0.5156, 0.5523, 0.3053, 0.3024,\n",
       "         0.3714],\n",
       "        [0.4305, 0.3516, 0.5072, 0.3920, 0.7123, 0.5540, 0.7094, 0.5007, 0.4186,\n",
       "         0.3057, 0.4342, 0.4312, 0.6407, 0.4642, 0.4958, 0.4602, 0.3474, 0.3059,\n",
       "         0.4123],\n",
       "        [0.4481, 0.4034, 0.4698, 0.4349, 0.7337, 0.6202, 0.6727, 0.5569, 0.4566,\n",
       "         0.3851, 0.4531, 0.4501, 0.6514, 0.4018, 0.5933, 0.4485, 0.3363, 0.3049,\n",
       "         0.4045],\n",
       "        [0.4250, 0.3600, 0.4252, 0.4092, 0.6391, 0.6368, 0.6691, 0.5495, 0.3576,\n",
       "         0.3608, 0.4237, 0.5830, 0.6398, 0.4901, 0.5555, 0.4593, 0.3972, 0.2662,\n",
       "         0.3964]], grad_fn=<SigmoidBackward>)"
      ]
     },
     "execution_count": 11,
     "metadata": {},
     "output_type": "execute_result"
    }
   ],
   "source": [
    "pred"
   ]
  },
  {
   "cell_type": "markdown",
   "id": "961bfdde",
   "metadata": {},
   "source": [
    "# Fake Loss Function\n",
    "Using fake model, let's get the fake loss function working"
   ]
  },
  {
   "cell_type": "code",
   "execution_count": 12,
   "id": "5acadc0e",
   "metadata": {},
   "outputs": [],
   "source": [
    "# Loss function\n",
    "loss_fn = nn.BCELoss()"
   ]
  },
  {
   "cell_type": "code",
   "execution_count": 13,
   "id": "684eb343",
   "metadata": {},
   "outputs": [
    {
     "data": {
      "text/plain": [
       "torch.Size([5, 19])"
      ]
     },
     "execution_count": 13,
     "metadata": {},
     "output_type": "execute_result"
    }
   ],
   "source": [
    "# First we have to make fake Ground Truths\n",
    "ground_truth = torch.full((5, 19), 1)\n",
    "ground_truth.shape"
   ]
  },
  {
   "cell_type": "code",
   "execution_count": 14,
   "id": "4c891ba0",
   "metadata": {},
   "outputs": [
    {
     "data": {
      "text/plain": [
       "tensor([[1, 1, 1, 1, 1, 1, 1, 1, 1, 1, 1, 1, 1, 1, 1, 1, 1, 1, 1],\n",
       "        [1, 1, 1, 1, 1, 1, 1, 1, 1, 1, 1, 1, 1, 1, 1, 1, 1, 1, 1],\n",
       "        [1, 1, 1, 1, 1, 1, 1, 1, 1, 1, 1, 1, 1, 1, 1, 1, 1, 1, 1],\n",
       "        [1, 1, 1, 1, 1, 1, 1, 1, 1, 1, 1, 1, 1, 1, 1, 1, 1, 1, 1],\n",
       "        [1, 1, 1, 1, 1, 1, 1, 1, 1, 1, 1, 1, 1, 1, 1, 1, 1, 1, 1]])"
      ]
     },
     "execution_count": 14,
     "metadata": {},
     "output_type": "execute_result"
    }
   ],
   "source": [
    "ground_truth"
   ]
  },
  {
   "cell_type": "code",
   "execution_count": 15,
   "id": "8279be16",
   "metadata": {},
   "outputs": [
    {
     "data": {
      "text/plain": [
       "tensor(0.7839, grad_fn=<BinaryCrossEntropyBackward>)"
      ]
     },
     "execution_count": 15,
     "metadata": {},
     "output_type": "execute_result"
    }
   ],
   "source": [
    "# compute loss \n",
    "loss = loss_fn(pred, ground_truth.float())\n",
    "loss"
   ]
  },
  {
   "cell_type": "markdown",
   "id": "3fd4d3cb",
   "metadata": {},
   "source": [
    "We then can use loss.backward() to update the change in loss for the weights.\n",
    "\n",
    "<code>loss.backward() computes dloss/dx for every parameter x which has requires_grad=True. These are accumulated into x.grad for every parameter x. In pseudo-code:\n",
    "\n",
    "x.grad += dloss/dx\n",
    "optimizer.step updates the value of x using the gradient x.grad. For example, the SGD optimizer performs:\n",
    "x += -lr * x.grad\n",
    "optimizer.zero_grad() clears x.grad for every parameter x in the optimizer. It’s important to call this before loss.backward(), otherwise you’ll accumulate the gradients from multiple passes.</code>"
   ]
  },
  {
   "cell_type": "markdown",
   "id": "2d8f9eba",
   "metadata": {},
   "source": [
    "# Fake Optimiser\n",
    "\n",
    "N.B In PyTorch, we need to set the gradients to zero before starting to do backpropragation because PyTorch accumulates the gradients on subsequent backward passes. This is convenient while training RNNs. So, the default action is to accumulate (i.e. sum) the gradients on every loss.backward() call.\n",
    "\n",
    "Because of this, when you start your training loop, ideally you should zero out the gradients so that you do the parameter update correctly. Else the gradient would point in some other direction than the intended direction towards the minimum (or maximum, in case of maximization objectives).\n",
    "\n",
    "[Why Choose Adam](https://debuggercafe.com/adam-algorithm-for-deep-learning-optimization/)"
   ]
  },
  {
   "cell_type": "code",
   "execution_count": 16,
   "id": "b9c588cd",
   "metadata": {},
   "outputs": [],
   "source": [
    "# init\n",
    "optim = torch.optim.Adam(model.parameters(), lr=0.0001) # we could put a scheduler here."
   ]
  },
  {
   "cell_type": "markdown",
   "id": "9a26a51b",
   "metadata": {},
   "source": [
    "When we use te optimizer what we are doing is [because](https://deeplearningdemystified.com/article/fdl-4) we want to avoid certain traps in achieving minimal loss (local optima, changing how certain weights are updated).\n",
    "\n",
    "To use the optimiser we first initialize (as above) and and then in the training loop:\n",
    "\n",
    "<code>#Backpropagation\n",
    "optimizer.zero_grad()\n",
    "loss.backward()\n",
    "optimizer.step()</code>"
   ]
  },
  {
   "cell_type": "markdown",
   "id": "continuing-bradley",
   "metadata": {},
   "source": [
    "# Fake Accuracy\n",
    "\n",
    "To calculate accuracy we add up all the 'correct' guesses and divide by len of dataset."
   ]
  },
  {
   "cell_type": "code",
   "execution_count": 17,
   "id": "sexual-transparency",
   "metadata": {},
   "outputs": [
    {
     "name": "stdout",
     "output_type": "stream",
     "text": [
      "torch.Size([5, 19])\n"
     ]
    }
   ],
   "source": [
    "print(pred.shape)"
   ]
  },
  {
   "cell_type": "code",
   "execution_count": 18,
   "id": "southeast-installation",
   "metadata": {},
   "outputs": [
    {
     "name": "stdout",
     "output_type": "stream",
     "text": [
      "torch.Size([5, 19])\n"
     ]
    }
   ],
   "source": [
    "print(ground_truth.shape)"
   ]
  },
  {
   "cell_type": "code",
   "execution_count": 20,
   "id": "located-livestock",
   "metadata": {},
   "outputs": [],
   "source": [
    "size = len(fake_loader.dataset) # in actual thing"
   ]
  },
  {
   "cell_type": "code",
   "execution_count": 21,
   "id": "peripheral-proposal",
   "metadata": {},
   "outputs": [
    {
     "data": {
      "text/plain": [
       "30"
      ]
     },
     "execution_count": 21,
     "metadata": {},
     "output_type": "execute_result"
    }
   ],
   "source": [
    "correct = 0\n",
    "correct += torch.sum((pred >= 0.5).float() == ground_truth.float()).item()\n",
    "correct"
   ]
  },
  {
   "cell_type": "code",
   "execution_count": 22,
   "id": "sound-coalition",
   "metadata": {
    "scrolled": true
   },
   "outputs": [
    {
     "data": {
      "text/plain": [
       "0.3157894736842105"
      ]
     },
     "execution_count": 22,
     "metadata": {},
     "output_type": "execute_result"
    }
   ],
   "source": [
    "# acc = correct / size * 19 labels\n",
    "acc = correct / (5 * 19)\n",
    "acc"
   ]
  },
  {
   "cell_type": "markdown",
   "id": "e2627a03",
   "metadata": {},
   "source": [
    "# Fake Training Loop\n",
    "Using fake inputs and predicitons I am going to show what the training loop should look like."
   ]
  },
  {
   "cell_type": "code",
   "execution_count": 23,
   "id": "a7963952",
   "metadata": {},
   "outputs": [],
   "source": [
    "def train_loop(model, optim, dataloader, loss_fn, USE_GPU=False):\n",
    "    # How Long is our dataset\n",
    "    size = len(dataloader.dataset)\n",
    "    \n",
    "    # Firstly set model to training\n",
    "    model.train()\n",
    "    # if we are using a GPU send the model to device\n",
    "    if USE_GPU:\n",
    "        model = model.cuda()\n",
    "        \n",
    "    # Set gradients to be trainable\n",
    "    with torch.set_grad_enabled(True):\n",
    "        for batch_num, (X,y) in enumerate(dataloader):\n",
    "            # If cuda send to cuda\n",
    "            if USE_GPU:\n",
    "                X = X.cuda()\n",
    "                y = y.cuda()\n",
    "\n",
    "            # Compute prediction and loss\n",
    "            pred = model(X)\n",
    "            loss = loss_fn(pred, y)\n",
    "            \n",
    "            # Backpropagation\n",
    "            optimizer.zero_grad()\n",
    "            loss.backward()\n",
    "            optimizer.step()\n",
    "            \n",
    "            # Logging and Stats\n",
    "            if batch_num % 100 == 0:\n",
    "                loss, current = loss.item(), batch_num * len(X)\n",
    "                print(f\"loss: {loss:>7f}  [{current:>5d}/{size:>5d}]\")\n",
    "        "
   ]
  },
  {
   "cell_type": "markdown",
   "id": "3b12b3c0",
   "metadata": {},
   "source": [
    "# Fake Testing Loop"
   ]
  },
  {
   "cell_type": "code",
   "execution_count": 24,
   "id": "b3d742c8",
   "metadata": {},
   "outputs": [],
   "source": [
    "def test_loop(model, optim, dataloader, loss_fn, USE_GPU=False):\n",
    "    # How long is our dataset\n",
    "    size = len(dataloader.dataset)\n",
    "    test_loss, correct = 0, 0\n",
    "    \n",
    "    # model testing\n",
    "    model.eval()\n",
    "    \n",
    "    if USE_GPU:\n",
    "        model = model.cuda()\n",
    "    with torch.no_grad():\n",
    "        for X, y in dataloader:\n",
    "            if USE_GPU:\n",
    "                X = X.cuda()\n",
    "                y = y.cuda()\n",
    "                \n",
    "            pred = model(X)\n",
    "            test_loss += loss_fn(pred, y).item()\n",
    "            correct += torch.sum((pred >= 0.5).float() == y.float()).item()\n",
    "\n",
    "    test_loss /= size\n",
    "    correct /= (size * 19)\n",
    "    print(f\"Test Error: \\n Accuracy: {(100*correct):>0.1f}%, Avg loss: {test_loss:>8f} \\n\")\n",
    "    return(correct, test_loss)"
   ]
  },
  {
   "cell_type": "markdown",
   "id": "5b27fccc",
   "metadata": {},
   "source": [
    "# Fake Subsets"
   ]
  },
  {
   "cell_type": "code",
   "execution_count": 25,
   "id": "b1d636fa",
   "metadata": {},
   "outputs": [
    {
     "name": "stdout",
     "output_type": "stream",
     "text": [
      "800\n",
      "200\n"
     ]
    }
   ],
   "source": [
    "# batch size\n",
    "batch_s = 4\n",
    "\n",
    "# train dataset & dataloader\n",
    "dataset_train = torch.utils.data.Subset(fake_dataset, \n",
    "                                        list(range(0,800)))\n",
    "\n",
    "train_loader = torch.utils.data.DataLoader(dataset_train,\n",
    "                                          batch_size=batch_s,\n",
    "                                          shuffle=True)\n",
    "\n",
    "# test dataset & dataloader\n",
    "dataset_test = torch.utils.data.Subset(fake_dataset,\n",
    "                                     list(range(800, len(fake_dataset))))\n",
    "test_loader = torch.utils.data.DataLoader(dataset_test,\n",
    "                                          batch_size=1,\n",
    "                                          shuffle=False)\n",
    "print(len(dataset_train))\n",
    "print(len(dataset_test))\n",
    "\n",
    "dataloaders = {\n",
    "    \"train\": train_loader,\n",
    "    \"test\": test_loader\n",
    "}"
   ]
  },
  {
   "cell_type": "markdown",
   "id": "01497219",
   "metadata": {},
   "source": [
    "# Fake Run"
   ]
  },
  {
   "cell_type": "code",
   "execution_count": 26,
   "id": "cbeede76",
   "metadata": {
    "scrolled": false
   },
   "outputs": [
    {
     "name": "stdout",
     "output_type": "stream",
     "text": [
      "Epoch 1\n",
      "-------------------------------\n",
      "loss: 0.728572  [    0/  800]\n",
      "loss: 0.699750  [  400/  800]\n",
      "Test Error: \n",
      " Accuracy: 0.0%, Avg loss: 0.695331 \n",
      "\n",
      "Epoch 2\n",
      "-------------------------------\n",
      "loss: 0.696597  [    0/  800]\n",
      "loss: 0.694911  [  400/  800]\n",
      "Test Error: \n",
      " Accuracy: 0.0%, Avg loss: 0.696680 \n",
      "\n",
      "Epoch 3\n",
      "-------------------------------\n",
      "loss: 0.697246  [    0/  800]\n",
      "loss: 0.703069  [  400/  800]\n",
      "Test Error: \n",
      " Accuracy: 0.0%, Avg loss: 0.700408 \n",
      "\n",
      "Epoch 4\n",
      "-------------------------------\n",
      "loss: 0.694764  [    0/  800]\n",
      "loss: 0.700051  [  400/  800]\n",
      "Test Error: \n",
      " Accuracy: 0.0%, Avg loss: 0.697117 \n",
      "\n",
      "Epoch 5\n",
      "-------------------------------\n",
      "loss: 0.702744  [    0/  800]\n",
      "loss: 0.694605  [  400/  800]\n",
      "Test Error: \n",
      " Accuracy: 0.0%, Avg loss: 0.694703 \n",
      "\n",
      "Done!\n"
     ]
    }
   ],
   "source": [
    "# Config\n",
    "EPOCHS = 5\n",
    "optimizer = torch.optim.Adam(model.parameters(), lr=0.0001)\n",
    "loss_fn = nn.BCELoss()\n",
    "\n",
    "best_acc = 0.0\n",
    "log_acc = list()\n",
    "log_loss = list()\n",
    "\n",
    "for t in range(EPOCHS):\n",
    "    print(f\"Epoch {t+1}\\n-------------------------------\")\n",
    "    train_loop(model, optimizer, dataloaders['train'], loss_fn, USE_GPU=True)\n",
    "    correct, test_loss = test_loop(model, optimizer, dataloaders['test'], loss_fn, USE_GPU=True)\n",
    "    log_acc.append(correct)\n",
    "    log_loss.append(test_loss)\n",
    "    \n",
    "print(\"Done!\")"
   ]
  },
  {
   "cell_type": "code",
   "execution_count": 28,
   "id": "national-trainer",
   "metadata": {},
   "outputs": [
    {
     "data": {
      "text/plain": [
       "Text(0.5, 1.0, 'Loss/ Acc over Epochs')"
      ]
     },
     "execution_count": 28,
     "metadata": {},
     "output_type": "execute_result"
    },
    {
     "data": {
      "image/png": "[encoded data removed]",
      "text/plain": [
       "<Figure size 432x288 with 1 Axes>"
      ]
     },
     "metadata": {
      "needs_background": "light"
     },
     "output_type": "display_data"
    }
   ],
   "source": [
    "plt.plot(np.arange(0, len(log_loss), 1), log_loss, color='g')\n",
    "plt.ylabel('Score')\n",
    "plt.xlabel('# of Epochs')\n",
    "plt.title('Loss/ Acc over Epochs')"
   ]
  }
 ],
 "metadata": {
  "kernelspec": {
   "display_name": "Python [conda env:cell]",
   "language": "python",
   "name": "conda-env-cell-py"
  },
  "language_info": {
   "codemirror_mode": {
    "name": "ipython",
    "version": 3
   },
   "file_extension": ".py",
   "mimetype": "text/x-python",
   "name": "python",
   "nbconvert_exporter": "python",
   "pygments_lexer": "ipython3",
   "version": "3.9.2"
  }
 },
 "nbformat": 4,
 "nbformat_minor": 5
}
