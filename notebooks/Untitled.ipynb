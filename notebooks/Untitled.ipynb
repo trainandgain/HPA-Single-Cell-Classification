{
 "cells": [
  {
   "cell_type": "code",
   "execution_count": 3,
   "id": "hungarian-transsexual",
   "metadata": {},
   "outputs": [],
   "source": [
    "#testing\n",
    "import matplotlib.pyplot as plt\n",
    "r_path = '../input/image_subset/cell/f134134e-bbaf-11e8-b2ba-ac1f6b6435d0_cell_28_red.png'\n",
    "g_path = '../input/image_subset/cell/f134134e-bbaf-11e8-b2ba-ac1f6b6435d0_cell_28_green.png'\n",
    "b_path = '../input/image_subset/cell/f134134e-bbaf-11e8-b2ba-ac1f6b6435d0_cell_28_blue.png'"
   ]
  },
  {
   "cell_type": "code",
   "execution_count": 4,
   "id": "capital-albany",
   "metadata": {},
   "outputs": [],
   "source": [
    "r = plt.imread(r_path)\n",
    "g = plt.imread(g_path)\n",
    "b = plt.imread(b_path)"
   ]
  },
  {
   "cell_type": "code",
   "execution_count": 6,
   "id": "lightweight-acquisition",
   "metadata": {},
   "outputs": [
    {
     "data": {
      "text/plain": [
       "(597, 366, 4)"
      ]
     },
     "execution_count": 6,
     "metadata": {},
     "output_type": "execute_result"
    }
   ],
   "source": [
    "r.shape"
   ]
  },
  {
   "cell_type": "code",
   "execution_count": 7,
   "id": "recognized-conversation",
   "metadata": {},
   "outputs": [
    {
     "data": {
      "text/plain": [
       "(597, 366, 4)"
      ]
     },
     "execution_count": 7,
     "metadata": {},
     "output_type": "execute_result"
    }
   ],
   "source": [
    "g.shape"
   ]
  },
  {
   "cell_type": "code",
   "execution_count": null,
   "id": "turned-privilege",
   "metadata": {},
   "outputs": [],
   "source": []
  }
 ],
 "metadata": {
  "kernelspec": {
   "display_name": "Python [conda env:cell]",
   "language": "python",
   "name": "conda-env-cell-py"
  },
  "language_info": {
   "codemirror_mode": {
    "name": "ipython",
    "version": 3
   },
   "file_extension": ".py",
   "mimetype": "text/x-python",
   "name": "python",
   "nbconvert_exporter": "python",
   "pygments_lexer": "ipython3",
   "version": "3.9.2"
  }
 },
 "nbformat": 4,
 "nbformat_minor": 5
}
