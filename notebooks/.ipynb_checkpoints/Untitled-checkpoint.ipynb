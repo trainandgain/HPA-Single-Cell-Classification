{
 "cells": [
  {
   "cell_type": "code",
   "execution_count": 33,
   "id": "polar-senegal",
   "metadata": {},
   "outputs": [],
   "source": [
    "#testing\n",
    "import matplotlib.pyplot as plt\n",
    "import imageio\n",
    "r_path = '../input/image_subset/cell/f134134e-bbaf-11e8-b2ba-ac1f6b6435d0_cell_28_red.png'\n",
    "g_path = '../input/image_subset/cell/f134134e-bbaf-11e8-b2ba-ac1f6b6435d0_cell_28_green.png'\n",
    "b_path = '../input/image_subset/cell/f134134e-bbaf-11e8-b2ba-ac1f6b6435d0_cell_28_blue.png'"
   ]
  },
  {
   "cell_type": "code",
   "execution_count": 34,
   "id": "occupied-appointment",
   "metadata": {},
   "outputs": [],
   "source": [
    "r = imageio.imread(r_path)\n",
    "g = imageio.imread(g_path)\n",
    "b = imageio.imread(b_path)"
   ]
  },
  {
   "cell_type": "code",
   "execution_count": 35,
   "id": "convinced-patrol",
   "metadata": {},
   "outputs": [
    {
     "data": {
      "text/plain": [
       "(597, 366, 4)"
      ]
     },
     "execution_count": 35,
     "metadata": {},
     "output_type": "execute_result"
    }
   ],
   "source": [
    "r.shape"
   ]
  },
  {
   "cell_type": "code",
   "execution_count": 38,
   "id": "naked-ceiling",
   "metadata": {},
   "outputs": [],
   "source": [
    "imageio.imwrite('test.png', g[:, :, 0])"
   ]
  },
  {
   "cell_type": "code",
   "execution_count": 39,
   "id": "turned-cattle",
   "metadata": {},
   "outputs": [],
   "source": [
    "t = imageio.imread('test.png')"
   ]
  },
  {
   "cell_type": "code",
   "execution_count": 40,
   "id": "smaller-willow",
   "metadata": {
    "scrolled": true
   },
   "outputs": [
    {
     "data": {
      "text/plain": [
       "(597, 366)"
      ]
     },
     "execution_count": 40,
     "metadata": {},
     "output_type": "execute_result"
    }
   ],
   "source": [
    "t.shape"
   ]
  },
  {
   "cell_type": "code",
   "execution_count": 43,
   "id": "sweet-transition",
   "metadata": {},
   "outputs": [
    {
     "data": {
      "text/plain": [
       "Array([68, 68, 68, ..., 68, 68, 68], dtype=uint8)"
      ]
     },
     "execution_count": 43,
     "metadata": {},
     "output_type": "execute_result"
    }
   ],
   "source": [
    "t.flatten()"
   ]
  },
  {
   "cell_type": "code",
   "execution_count": 44,
   "id": "trying-jackson",
   "metadata": {},
   "outputs": [
    {
     "data": {
      "text/plain": [
       "(array([5.29700e+03, 2.12807e+05, 8.30000e+01, 6.60000e+01, 4.50000e+01,\n",
       "        3.50000e+01, 2.80000e+01, 2.40000e+01, 2.00000e+01, 9.70000e+01]),\n",
       " array([ 30. ,  52.3,  74.6,  96.9, 119.2, 141.5, 163.8, 186.1, 208.4,\n",
       "        230.7, 253. ]),\n",
       " <BarContainer object of 10 artists>)"
      ]
     },
     "execution_count": 44,
     "metadata": {},
     "output_type": "execute_result"
    },
    {
     "data": {
      "image/png": "[encoded data removed]",
      "text/plain": [
       "<Figure size 432x288 with 1 Axes>"
      ]
     },
     "metadata": {
      "needs_background": "light"
     },
     "output_type": "display_data"
    }
   ],
   "source": [
    "plt.hist(t.flatten())"
   ]
  },
  {
   "cell_type": "code",
   "execution_count": null,
   "id": "guilty-authentication",
   "metadata": {},
   "outputs": [],
   "source": []
  }
 ],
 "metadata": {
  "kernelspec": {
   "display_name": "Python [conda env:cell]",
   "language": "python",
   "name": "conda-env-cell-py"
  },
  "language_info": {
   "codemirror_mode": {
    "name": "ipython",
    "version": 3
   },
   "file_extension": ".py",
   "mimetype": "text/x-python",
   "name": "python",
   "nbconvert_exporter": "python",
   "pygments_lexer": "ipython3",
   "version": "3.9.2"
  }
 },
 "nbformat": 4,
 "nbformat_minor": 5
}
