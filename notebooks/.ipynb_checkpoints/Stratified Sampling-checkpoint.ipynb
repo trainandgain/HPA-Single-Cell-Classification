{
 "cells": [
  {
   "cell_type": "markdown",
   "id": "03345049",
   "metadata": {},
   "source": [
    "## Stratified sampling"
   ]
  },
  {
   "cell_type": "code",
   "execution_count": 155,
   "id": "394b3123",
   "metadata": {},
   "outputs": [],
   "source": [
    "import pandas as pd\n",
    "import numpy as np\n",
    "import seaborn as sns\n",
    "import matplotlib.pyplot as plt\n",
    "\n",
    "import sklearn\n",
    "from sklearn.model_selection import StratifiedShuffleSplit\n",
    "from skmultilearn.model_selection import IterativeStratification"
   ]
  },
  {
   "cell_type": "code",
   "execution_count": 7,
   "id": "84a2f85c",
   "metadata": {},
   "outputs": [],
   "source": [
    "path = '../input/train.csv'"
   ]
  },
  {
   "cell_type": "code",
   "execution_count": 8,
   "id": "20e5f537",
   "metadata": {},
   "outputs": [],
   "source": [
    "df = pd.read_csv(path)"
   ]
  },
  {
   "cell_type": "code",
   "execution_count": 9,
   "id": "dc010c88",
   "metadata": {},
   "outputs": [],
   "source": [
    "# Transform string label to 19 one-hot columns\n",
    "cols = [str(i) for i in list(range(19))]\n",
    "df[cols] = np.nan\n",
    "\n",
    "# Apply mapping\n",
    "def encoder(row):\n",
    "    labels = row['Label'].split('|')\n",
    "    for label in labels:\n",
    "        row[label] = 1    \n",
    "    return row\n",
    "\n",
    "df = df.apply(encoder, axis=1)\n",
    "df.fillna(0, inplace=True)"
   ]
  },
  {
   "cell_type": "code",
   "execution_count": 34,
   "id": "c5f7939c",
   "metadata": {},
   "outputs": [
    {
     "name": "stdout",
     "output_type": "stream",
     "text": [
      "<class 'pandas.core.frame.DataFrame'>\n",
      "RangeIndex: 21806 entries, 0 to 21805\n",
      "Data columns (total 21 columns):\n",
      " #   Column  Non-Null Count  Dtype  \n",
      "---  ------  --------------  -----  \n",
      " 0   ID      21806 non-null  object \n",
      " 1   Label   21806 non-null  object \n",
      " 2   0       21806 non-null  float64\n",
      " 3   1       21806 non-null  float64\n",
      " 4   2       21806 non-null  float64\n",
      " 5   3       21806 non-null  float64\n",
      " 6   4       21806 non-null  float64\n",
      " 7   5       21806 non-null  float64\n",
      " 8   6       21806 non-null  float64\n",
      " 9   7       21806 non-null  float64\n",
      " 10  8       21806 non-null  float64\n",
      " 11  9       21806 non-null  float64\n",
      " 12  10      21806 non-null  float64\n",
      " 13  11      21806 non-null  float64\n",
      " 14  12      21806 non-null  float64\n",
      " 15  13      21806 non-null  float64\n",
      " 16  14      21806 non-null  float64\n",
      " 17  15      21806 non-null  float64\n",
      " 18  16      21806 non-null  float64\n",
      " 19  17      21806 non-null  float64\n",
      " 20  18      21806 non-null  float64\n",
      "dtypes: float64(19), object(2)\n",
      "memory usage: 3.5+ MB\n"
     ]
    }
   ],
   "source": [
    "df.info()"
   ]
  },
  {
   "cell_type": "code",
   "execution_count": 13,
   "id": "73f31e0a",
   "metadata": {},
   "outputs": [],
   "source": [
    "ohe_labels = df.iloc[:, 2:]"
   ]
  },
  {
   "cell_type": "code",
   "execution_count": 24,
   "id": "eb8b26de",
   "metadata": {
    "scrolled": true
   },
   "outputs": [
    {
     "data": {
      "text/plain": [
       "<AxesSubplot:title={'center':'Label Counts'}>"
      ]
     },
     "execution_count": 24,
     "metadata": {},
     "output_type": "execute_result"
    },
    {
     "data": {
      "image/png": "[encoded data removed]",
      "text/plain": [
       "<Figure size 432x288 with 1 Axes>"
      ]
     },
     "metadata": {
      "needs_background": "light"
     },
     "output_type": "display_data"
    }
   ],
   "source": [
    "ohe_labels.sum().plot(kind='bar', title='Label Counts')"
   ]
  },
  {
   "cell_type": "code",
   "execution_count": 59,
   "id": "f203a998",
   "metadata": {},
   "outputs": [
    {
     "data": {
      "text/plain": [
       "0     8797.0\n",
       "1     1095.0\n",
       "2     2451.0\n",
       "3     1262.0\n",
       "4     1425.0\n",
       "5     1792.0\n",
       "6      775.0\n",
       "7     1846.0\n",
       "8      964.0\n",
       "9      998.0\n",
       "10     818.0\n",
       "11      78.0\n",
       "12    1734.0\n",
       "13    3111.0\n",
       "14    2013.0\n",
       "15     252.0\n",
       "16    5685.0\n",
       "17     593.0\n",
       "18      34.0\n",
       "dtype: float64"
      ]
     },
     "execution_count": 59,
     "metadata": {},
     "output_type": "execute_result"
    }
   ],
   "source": [
    "ohe_labels.sum()"
   ]
  },
  {
   "cell_type": "markdown",
   "id": "8b72a18e",
   "metadata": {},
   "source": [
    "During training we are going to overfit to the zero if we don't take into account some sort of sampling strategy. We need to atleast try and get a balanced labelling system."
   ]
  },
  {
   "cell_type": "code",
   "execution_count": 40,
   "id": "e33446bf",
   "metadata": {},
   "outputs": [],
   "source": [
    "only_one = ohe_labels[ohe_labels.agg(np.sum, axis=1)==1]"
   ]
  },
  {
   "cell_type": "code",
   "execution_count": 41,
   "id": "29b1771c",
   "metadata": {
    "scrolled": false
   },
   "outputs": [
    {
     "data": {
      "text/plain": [
       "<AxesSubplot:>"
      ]
     },
     "execution_count": 41,
     "metadata": {},
     "output_type": "execute_result"
    },
    {
     "data": {
      "image/png": "[encoded data removed]",
      "text/plain": [
       "<Figure size 432x288 with 1 Axes>"
      ]
     },
     "metadata": {
      "needs_background": "light"
     },
     "output_type": "display_data"
    }
   ],
   "source": [
    "only_one.sum().plot(kind='bar')"
   ]
  },
  {
   "cell_type": "markdown",
   "id": "e6282c35",
   "metadata": {},
   "source": [
    "## Sklearn attempt\n",
    "\n",
    "[Broke for me](https://stackoverflow.com/questions/53378970/how-to-perform-multilabel-stratified-sampling) with Stratified Shuffle split. Read article about why, trying Iterative method instead.\n",
    "\n",
    "[iterative_stratification](http://scikit.ml/api/skmultilearn.model_selection.iterative_stratification.html#skmultilearn.model_selection.iterative_stratification.iterative_train_test_split)"
   ]
  },
  {
   "cell_type": "code",
   "execution_count": 179,
   "id": "2c4501f1",
   "metadata": {},
   "outputs": [],
   "source": [
    "X = df.ID\n",
    "y = ohe_labels"
   ]
  },
  {
   "cell_type": "code",
   "execution_count": 186,
   "id": "a1fdce59",
   "metadata": {},
   "outputs": [],
   "source": [
    "k_fold = IterativeStratification(n_splits=2, order=1)\n",
    "_, test = k_fold.split(X, y)"
   ]
  },
  {
   "cell_type": "code",
   "execution_count": 187,
   "id": "8deed6d5",
   "metadata": {},
   "outputs": [
    {
     "data": {
      "text/plain": [
       "4        5b931256-bb99-11e8-b2b9-ac1f6b6435d0\n",
       "5        5e22a522-bb99-11e8-b2b9-ac1f6b6435d0\n",
       "10       5e9afd56-bb99-11e8-b2b9-ac1f6b6435d0\n",
       "11       5f1af6b4-bb99-11e8-b2b9-ac1f6b6435d0\n",
       "12       5ffaea8a-bb99-11e8-b2b9-ac1f6b6435d0\n",
       "                         ...                 \n",
       "21793    d79a532e-bbca-11e8-b2bc-ac1f6b6435d0\n",
       "21797    d9769126-bbca-11e8-b2bc-ac1f6b6435d0\n",
       "21798    d9d99186-bbca-11e8-b2bc-ac1f6b6435d0\n",
       "21802    dd1f7fb8-bbca-11e8-b2bc-ac1f6b6435d0\n",
       "21805    dea19dc6-bbca-11e8-b2bc-ac1f6b6435d0\n",
       "Name: ID, Length: 10886, dtype: object"
      ]
     },
     "execution_count": 187,
     "metadata": {},
     "output_type": "execute_result"
    }
   ],
   "source": [
    "X[test[0]]"
   ]
  },
  {
   "cell_type": "code",
   "execution_count": 195,
   "id": "a730dbe9",
   "metadata": {},
   "outputs": [],
   "source": [
    "stratified_df = df[df.ID.isin(X[test[0]])]\n",
    "stratified_df2 = df[df.ID.isin(X[test[1]])]"
   ]
  },
  {
   "cell_type": "code",
   "execution_count": 196,
   "id": "b0434aab",
   "metadata": {},
   "outputs": [
    {
     "data": {
      "text/plain": [
       "<AxesSubplot:>"
      ]
     },
     "execution_count": 196,
     "metadata": {},
     "output_type": "execute_result"
    },
    {
     "data": {
      "image/png": "[encoded data removed]",
      "text/plain": [
       "<Figure size 432x288 with 1 Axes>"
      ]
     },
     "metadata": {
      "needs_background": "light"
     },
     "output_type": "display_data"
    }
   ],
   "source": [
    "stratified_df.iloc[:, 2:].sum().plot(kind='bar')"
   ]
  },
  {
   "cell_type": "code",
   "execution_count": 197,
   "id": "87b66958",
   "metadata": {},
   "outputs": [
    {
     "data": {
      "text/plain": [
       "<AxesSubplot:>"
      ]
     },
     "execution_count": 197,
     "metadata": {},
     "output_type": "execute_result"
    },
    {
     "data": {
      "image/png": "[encoded data removed]",
      "text/plain": [
       "<Figure size 432x288 with 1 Axes>"
      ]
     },
     "metadata": {
      "needs_background": "light"
     },
     "output_type": "display_data"
    }
   ],
   "source": [
    "stratified_df2.iloc[:, 2:].sum().plot(kind='bar')"
   ]
  },
  {
   "cell_type": "code",
   "execution_count": 198,
   "id": "09296ea0",
   "metadata": {},
   "outputs": [],
   "source": [
    "stratified_df.to_csv('../input/stratified.csv', index=False)"
   ]
  },
  {
   "cell_type": "markdown",
   "id": "0257ce6a",
   "metadata": {},
   "source": [
    "The splits provides two example splits, I have just taken each one, as the index for X and y should be the same."
   ]
  },
  {
   "cell_type": "code",
   "execution_count": null,
   "id": "c35fdc5e",
   "metadata": {},
   "outputs": [],
   "source": []
  }
 ],
 "metadata": {
  "kernelspec": {
   "display_name": "ml",
   "language": "python",
   "name": "ml"
  },
  "language_info": {
   "codemirror_mode": {
    "name": "ipython",
    "version": 3
   },
   "file_extension": ".py",
   "mimetype": "text/x-python",
   "name": "python",
   "nbconvert_exporter": "python",
   "pygments_lexer": "ipython3",
   "version": "3.8.8"
  }
 },
 "nbformat": 4,
 "nbformat_minor": 5
}
