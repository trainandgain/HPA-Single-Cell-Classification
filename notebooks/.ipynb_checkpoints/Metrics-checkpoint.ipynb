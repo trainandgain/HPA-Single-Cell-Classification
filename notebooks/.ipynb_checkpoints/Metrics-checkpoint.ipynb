{
 "cells": [
  {
   "cell_type": "markdown",
   "id": "breathing-characterization",
   "metadata": {},
   "source": [
    "# Metrics\n",
    "\n",
    "From the model we expect an output of;\n",
    "\n",
    "pred- (1,19)\n",
    "ground_truth- (1,19)\n",
    "\n",
    "The evaluation metric of the competition is mean average precision"
   ]
  },
  {
   "cell_type": "code",
   "execution_count": 1,
   "id": "acoustic-phoenix",
   "metadata": {},
   "outputs": [],
   "source": [
    "import torch\n",
    "import numpy as np\n",
    "import random\n",
    "from ignite.metrics import Accuracy, Precision, Recall"
   ]
  },
  {
   "cell_type": "code",
   "execution_count": 2,
   "id": "incorporated-brazil",
   "metadata": {},
   "outputs": [
    {
     "data": {
      "text/plain": [
       "[array([0.24168078, 0.65339962, 0.55568057, 0.16822167, 0.81109173,\n",
       "        0.22968118, 0.78429768, 0.10182548, 0.50220523, 0.55082821,\n",
       "        0.01667953, 0.06645349, 0.85532197, 0.6756438 , 0.10103242,\n",
       "        0.04555499, 0.41367346, 0.46347511, 0.90416886])]"
      ]
     },
     "execution_count": 2,
     "metadata": {},
     "output_type": "execute_result"
    }
   ],
   "source": [
    "pred = [np.random.random(19)]\n",
    "pred"
   ]
  },
  {
   "cell_type": "code",
   "execution_count": 3,
   "id": "organic-coaching",
   "metadata": {
    "scrolled": true
   },
   "outputs": [
    {
     "data": {
      "text/plain": [
       "(1, 19)"
      ]
     },
     "execution_count": 3,
     "metadata": {},
     "output_type": "execute_result"
    }
   ],
   "source": [
    "np.shape(pred)"
   ]
  },
  {
   "cell_type": "code",
   "execution_count": 20,
   "id": "collect-sheriff",
   "metadata": {},
   "outputs": [
    {
     "data": {
      "text/plain": [
       "[array([1, 0, 1, 1, 1, 1, 1, 1, 1, 1, 0, 1, 0, 0, 1, 0, 1, 1, 0])]"
      ]
     },
     "execution_count": 20,
     "metadata": {},
     "output_type": "execute_result"
    }
   ],
   "source": [
    "list_truth = [0, 1]\n",
    "truth = [np.array([random.choice(list_truth) for i in range(19)])]\n",
    "truth"
   ]
  },
  {
   "cell_type": "code",
   "execution_count": 21,
   "id": "limiting-symposium",
   "metadata": {
    "scrolled": true
   },
   "outputs": [
    {
     "data": {
      "text/plain": [
       "(1, 19)"
      ]
     },
     "execution_count": 21,
     "metadata": {},
     "output_type": "execute_result"
    }
   ],
   "source": [
    "np.shape(truth)"
   ]
  },
  {
   "cell_type": "markdown",
   "id": "described-lesbian",
   "metadata": {},
   "source": [
    "Now we have our random inputs and ground truths we must get a metric running."
   ]
  },
  {
   "cell_type": "code",
   "execution_count": 22,
   "id": "hawaiian-integral",
   "metadata": {},
   "outputs": [],
   "source": [
    "torch_pred = torch.tensor(pred)\n",
    "torch_truth = torch.tensor(truth)"
   ]
  },
  {
   "cell_type": "code",
   "execution_count": 23,
   "id": "athletic-notebook",
   "metadata": {},
   "outputs": [],
   "source": [
    "# convert to 1 or 0 with threshold\n",
    "pred_converted = (torch_pred>0.5).float()"
   ]
  },
  {
   "cell_type": "code",
   "execution_count": 24,
   "id": "representative-estimate",
   "metadata": {
    "scrolled": true
   },
   "outputs": [
    {
     "data": {
      "text/plain": [
       "tensor([[0., 1., 1., 0., 1., 0., 1., 0., 1., 1., 0., 0., 1., 1., 0., 0., 0., 0.,\n",
       "         1.]])"
      ]
     },
     "execution_count": 24,
     "metadata": {},
     "output_type": "execute_result"
    }
   ],
   "source": [
    "pred_converted"
   ]
  },
  {
   "cell_type": "code",
   "execution_count": 15,
   "id": "e3e2adaf",
   "metadata": {},
   "outputs": [],
   "source": [
    "test = torch.zeros(1, 19)"
   ]
  },
  {
   "cell_type": "code",
   "execution_count": 25,
   "id": "ec5b8bdc",
   "metadata": {},
   "outputs": [
    {
     "data": {
      "text/plain": [
       "tensor([[0., 0., 0., 0., 0., 0., 0., 0., 0., 0., 0., 0., 0., 0., 0., 0., 0., 0., 0.]])"
      ]
     },
     "execution_count": 25,
     "metadata": {},
     "output_type": "execute_result"
    }
   ],
   "source": [
    "test"
   ]
  },
  {
   "cell_type": "code",
   "execution_count": 26,
   "id": "identified-siemens",
   "metadata": {},
   "outputs": [],
   "source": [
    "metric = Recall()\n",
    "metric.reset()\n",
    "metric.update((test, torch_truth))"
   ]
  },
  {
   "cell_type": "code",
   "execution_count": 27,
   "id": "greater-chase",
   "metadata": {},
   "outputs": [
    {
     "data": {
      "text/plain": [
       "0.0"
      ]
     },
     "execution_count": 27,
     "metadata": {},
     "output_type": "execute_result"
    }
   ],
   "source": [
    "metric.compute().item()"
   ]
  },
  {
   "cell_type": "code",
   "execution_count": 28,
   "id": "worst-archive",
   "metadata": {},
   "outputs": [
    {
     "data": {
      "text/plain": [
       "1.0"
      ]
     },
     "execution_count": 28,
     "metadata": {},
     "output_type": "execute_result"
    }
   ],
   "source": [
    "torch.max(pred_converted).item()"
   ]
  },
  {
   "cell_type": "code",
   "execution_count": null,
   "id": "e26f4850",
   "metadata": {},
   "outputs": [],
   "source": []
  },
  {
   "cell_type": "code",
   "execution_count": null,
   "id": "e7ffd0d9",
   "metadata": {},
   "outputs": [],
   "source": []
  }
 ],
 "metadata": {
  "kernelspec": {
   "display_name": "Python 3",
   "language": "python",
   "name": "python3"
  },
  "language_info": {
   "codemirror_mode": {
    "name": "ipython",
    "version": 3
   },
   "file_extension": ".py",
   "mimetype": "text/x-python",
   "name": "python",
   "nbconvert_exporter": "python",
   "pygments_lexer": "ipython3",
   "version": "3.9.2"
  }
 },
 "nbformat": 4,
 "nbformat_minor": 5
}
