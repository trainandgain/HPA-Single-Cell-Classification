{
 "cells": [
  {
   "cell_type": "markdown",
   "id": "infrared-director",
   "metadata": {},
   "source": [
    "# Metrics\n",
    "\n",
    "From the model we expect an output of;\n",
    "\n",
    "pred- (1,19)\n",
    "ground_truth- (1,19)\n",
    "\n",
    "The evaluation metric of the competition is mean average precision"
   ]
  },
  {
   "cell_type": "code",
   "execution_count": 76,
   "id": "immune-mercy",
   "metadata": {},
   "outputs": [],
   "source": [
    "import torch\n",
    "import numpy as np\n",
    "import random\n",
    "from ignite.metrics import Accuracy, Precision, Recall"
   ]
  },
  {
   "cell_type": "code",
   "execution_count": 77,
   "id": "periodic-panic",
   "metadata": {},
   "outputs": [
    {
     "data": {
      "text/plain": [
       "[array([0.49395969, 0.80053621, 0.63532773, 0.89705524, 0.94067868,\n",
       "        0.64124462, 0.59018191, 0.35129344, 0.75519694, 0.71098215,\n",
       "        0.4003385 , 0.57935335, 0.46170641, 0.49018029, 0.40575536,\n",
       "        0.0472254 , 0.62639511, 0.78637454, 0.33371816])]"
      ]
     },
     "execution_count": 77,
     "metadata": {},
     "output_type": "execute_result"
    }
   ],
   "source": [
    "pred = [np.random.random(19)]\n",
    "pred"
   ]
  },
  {
   "cell_type": "code",
   "execution_count": 78,
   "id": "crucial-scenario",
   "metadata": {
    "scrolled": true
   },
   "outputs": [
    {
     "data": {
      "text/plain": [
       "(1, 19)"
      ]
     },
     "execution_count": 78,
     "metadata": {},
     "output_type": "execute_result"
    }
   ],
   "source": [
    "np.shape(pred)"
   ]
  },
  {
   "cell_type": "code",
   "execution_count": 79,
   "id": "modern-gospel",
   "metadata": {},
   "outputs": [
    {
     "data": {
      "text/plain": [
       "[array([1, 0, 1, 0, 1, 1, 1, 1, 1, 1, 0, 1, 0, 1, 0, 0, 0, 0, 1])]"
      ]
     },
     "execution_count": 79,
     "metadata": {},
     "output_type": "execute_result"
    }
   ],
   "source": [
    "list_truth = [0, 1]\n",
    "truth = [np.array([random.choice(list_truth) for i in range(19)])]\n",
    "truth"
   ]
  },
  {
   "cell_type": "code",
   "execution_count": 80,
   "id": "brilliant-uncle",
   "metadata": {
    "scrolled": true
   },
   "outputs": [
    {
     "data": {
      "text/plain": [
       "(1, 19)"
      ]
     },
     "execution_count": 80,
     "metadata": {},
     "output_type": "execute_result"
    }
   ],
   "source": [
    "np.shape(truth)"
   ]
  },
  {
   "cell_type": "markdown",
   "id": "opening-referral",
   "metadata": {},
   "source": [
    "Now we have our random inputs and ground truths we must get a metric running."
   ]
  },
  {
   "cell_type": "code",
   "execution_count": 81,
   "id": "inside-vacation",
   "metadata": {},
   "outputs": [],
   "source": [
    "torch_pred = torch.tensor(pred)\n",
    "torch_truth = torch.tensor(truth)"
   ]
  },
  {
   "cell_type": "code",
   "execution_count": 82,
   "id": "geological-stress",
   "metadata": {},
   "outputs": [],
   "source": [
    "# convert to 1 or 0 with threshold\n",
    "pred_converted = (torch_pred>0.5).float()"
   ]
  },
  {
   "cell_type": "code",
   "execution_count": 83,
   "id": "suspected-mortality",
   "metadata": {},
   "outputs": [
    {
     "data": {
      "text/plain": [
       "tensor([[0., 1., 1., 1., 1., 1., 1., 0., 1., 1., 0., 1., 0., 0., 0., 0., 1., 1.,\n",
       "         0.]])"
      ]
     },
     "execution_count": 83,
     "metadata": {},
     "output_type": "execute_result"
    }
   ],
   "source": [
    "pred_converted"
   ]
  },
  {
   "cell_type": "code",
   "execution_count": 84,
   "id": "appreciated-denver",
   "metadata": {},
   "outputs": [],
   "source": [
    "metric = Accuracy()\n",
    "metric.reset()\n",
    "metric.update((pred_converted, torch_truth))"
   ]
  },
  {
   "cell_type": "code",
   "execution_count": 85,
   "id": "secure-knock",
   "metadata": {},
   "outputs": [
    {
     "data": {
      "text/plain": [
       "0.5789473684210527"
      ]
     },
     "execution_count": 85,
     "metadata": {},
     "output_type": "execute_result"
    }
   ],
   "source": [
    "metric.compute()"
   ]
  }
 ],
 "metadata": {
  "kernelspec": {
   "display_name": "Python [conda env:cell]",
   "language": "python",
   "name": "conda-env-cell-py"
  },
  "language_info": {
   "codemirror_mode": {
    "name": "ipython",
    "version": 3
   },
   "file_extension": ".py",
   "mimetype": "text/x-python",
   "name": "python",
   "nbconvert_exporter": "python",
   "pygments_lexer": "ipython3",
   "version": "3.9.2"
  }
 },
 "nbformat": 4,
 "nbformat_minor": 5
}
