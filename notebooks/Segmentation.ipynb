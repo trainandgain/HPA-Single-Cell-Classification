{
 "cells": [
  {
   "cell_type": "markdown",
   "id": "hazardous-lawyer",
   "metadata": {},
   "source": [
    "# Segmentation\n",
    "\n",
    "During the last two notebooks we have encountered a complication in our dataset. The **image-level labelling** (or weak labelling).\n",
    "\n",
    "It is time to try and investigate how we approach our inital training data a little more. We have many organelles present in one image. We therefore need to segment the image to gain some spatial inforamtion on our labelling.\n",
    "\n",
    "I will be using the [HPA-Cell-Segmentation](https://github.com/CellProfiling/HPA-Cell-Segmentation) tool to segment the iamges. \n",
    "\n",
    "I will also be following closely to [this kaggle notebook](https://www.kaggle.com/ayuraj/hpa-segmentation-mask-visualization-with-w-b) as a guide to using the segmentation tool. [Also this kaggle notebook](https://www.kaggle.com/lnhtrang/hpa-public-data-download-and-hpacellseg)"
   ]
  },
  {
   "cell_type": "code",
   "execution_count": 5,
   "id": "smart-sunrise",
   "metadata": {},
   "outputs": [
    {
     "name": "stdout",
     "output_type": "stream",
     "text": [
      "GPU 0: GeForce GTX 970 (UUID: GPU-fa9c9266-bf91-80d3-02fb-e1c62bb66c85)\n"
     ]
    }
   ],
   "source": [
    "#GPU count and name\n",
    "!nvidia-smi -L"
   ]
  },
  {
   "cell_type": "code",
   "execution_count": 6,
   "id": "modular-confidentiality",
   "metadata": {
    "scrolled": true
   },
   "outputs": [
    {
     "name": "stdout",
     "output_type": "stream",
     "text": [
      "5 5 5 5\n"
     ]
    }
   ],
   "source": [
    "# import example images\n",
    "\n",
    "import glob\n",
    "\n",
    "WORKING_DIR_PATH = '../input/'\n",
    "red_images = sorted(glob.glob(WORKING_DIR_PATH+'label_examples/*_red.png'))\n",
    "green_images = sorted(glob.glob(WORKING_DIR_PATH+'label_examples/*_green.png'))\n",
    "blue_images = sorted(glob.glob(WORKING_DIR_PATH+'label_examples/*_blue.png'))\n",
    "yellow_images = sorted(glob.glob(WORKING_DIR_PATH+'label_examples/*_yellow.png'))\n",
    "\n",
    "print(len(red_images), len(green_images), len(blue_images), len(yellow_images))"
   ]
  },
  {
   "cell_type": "code",
   "execution_count": 7,
   "id": "ultimate-cricket",
   "metadata": {},
   "outputs": [
    {
     "data": {
      "text/plain": [
       "['000a6c98-bb9b-11e8-b2b9-ac1f6b6435d0',\n",
       " 'a34d8680-bb99-11e8-b2b9-ac1f6b6435d0',\n",
       " 'a7faf0b4-bb99-11e8-b2b9-ac1f6b6435d0',\n",
       " 'b6a469d8-bbad-11e8-b2ba-ac1f6b6435d0',\n",
       " 'f0ac7116-bb99-11e8-b2b9-ac1f6b6435d0']"
      ]
     },
     "execution_count": 7,
     "metadata": {},
     "output_type": "execute_result"
    }
   ],
   "source": [
    "id_s = [red_images[i].split('_red')[0].split('\\\\')[1].strip()\\\n",
    "        for i in range(len(red_images))]\n",
    "id_s"
   ]
  },
  {
   "cell_type": "code",
   "execution_count": 8,
   "id": "unlikely-collector",
   "metadata": {},
   "outputs": [
    {
     "data": {
      "text/html": [
       "<div>\n",
       "<style scoped>\n",
       "    .dataframe tbody tr th:only-of-type {\n",
       "        vertical-align: middle;\n",
       "    }\n",
       "\n",
       "    .dataframe tbody tr th {\n",
       "        vertical-align: top;\n",
       "    }\n",
       "\n",
       "    .dataframe thead th {\n",
       "        text-align: right;\n",
       "    }\n",
       "</style>\n",
       "<table border=\"1\" class=\"dataframe\">\n",
       "  <thead>\n",
       "    <tr style=\"text-align: right;\">\n",
       "      <th></th>\n",
       "      <th>ID</th>\n",
       "      <th>Label</th>\n",
       "    </tr>\n",
       "  </thead>\n",
       "  <tbody>\n",
       "    <tr>\n",
       "      <th>0</th>\n",
       "      <td>a34d8680-bb99-11e8-b2b9-ac1f6b6435d0</td>\n",
       "      <td>18</td>\n",
       "    </tr>\n",
       "    <tr>\n",
       "      <th>1</th>\n",
       "      <td>a7faf0b4-bb99-11e8-b2b9-ac1f6b6435d0</td>\n",
       "      <td>17</td>\n",
       "    </tr>\n",
       "    <tr>\n",
       "      <th>2</th>\n",
       "      <td>f0ac7116-bb99-11e8-b2b9-ac1f6b6435d0</td>\n",
       "      <td>15</td>\n",
       "    </tr>\n",
       "    <tr>\n",
       "      <th>3</th>\n",
       "      <td>000a6c98-bb9b-11e8-b2b9-ac1f6b6435d0</td>\n",
       "      <td>7|1|2|0</td>\n",
       "    </tr>\n",
       "    <tr>\n",
       "      <th>4</th>\n",
       "      <td>b6a469d8-bbad-11e8-b2ba-ac1f6b6435d0</td>\n",
       "      <td>11</td>\n",
       "    </tr>\n",
       "  </tbody>\n",
       "</table>\n",
       "</div>"
      ],
      "text/plain": [
       "                                     ID    Label\n",
       "0  a34d8680-bb99-11e8-b2b9-ac1f6b6435d0       18\n",
       "1  a7faf0b4-bb99-11e8-b2b9-ac1f6b6435d0       17\n",
       "2  f0ac7116-bb99-11e8-b2b9-ac1f6b6435d0       15\n",
       "3  000a6c98-bb9b-11e8-b2b9-ac1f6b6435d0  7|1|2|0\n",
       "4  b6a469d8-bbad-11e8-b2ba-ac1f6b6435d0       11"
      ]
     },
     "execution_count": 8,
     "metadata": {},
     "output_type": "execute_result"
    }
   ],
   "source": [
    "import pandas as pd\n",
    "# Find example rows from train.csv\n",
    "train_csv = pd.read_csv(WORKING_DIR_PATH+'train.csv')\n",
    "df = train_csv[train_csv.ID.isin(id_s)].reset_index(drop=True)\n",
    "df"
   ]
  },
  {
   "cell_type": "code",
   "execution_count": 9,
   "id": "enormous-wheel",
   "metadata": {},
   "outputs": [],
   "source": [
    "# Column mapping for organelles\n",
    "label_map = {\n",
    "    '0': 'Nucleoplasm',\n",
    "    '1': 'Nuclear membrane',\n",
    "    '2': 'Nucleoli',\n",
    "    '3': 'Nucleoli fibrillar center',\n",
    "    '4': 'Nuclear speckles',\n",
    "    '5': 'Nuclear bodies',\n",
    "    '6': 'Endoplasmic reticulum',\n",
    "    '7': 'Golgi apparatus',\n",
    "    '8': 'Intermediate filaments',\n",
    "    '9': 'Actin filaments',\n",
    "    '10': 'Microtubules',\n",
    "    '11': 'Mitotic spindle',\n",
    "    '12': 'Centrosome',\n",
    "    '13': 'Plasma membrane',\n",
    "    '14': 'Mitochondria',\n",
    "    '15': 'Aggresome',\n",
    "    '16': 'Cytosol',\n",
    "    '17': 'Vesicles and punctate cytosolic patterns',\n",
    "    '18': 'Negative'\n",
    "}"
   ]
  },
  {
   "cell_type": "markdown",
   "id": "express-director",
   "metadata": {},
   "source": [
    "## HPA segmenation tool\n",
    "From https://github.com/CellProfiling/HPA-Cell-Segmentation\n",
    "\n",
    "!pip install https://github.com/CellProfiling/HPA-Cell-Segmentation/archive/master.zip\n",
    "\n",
    "Run the above into your env. I have included it into the conda enviroment. So I won't run this in the notebook. I had trouble getting this working, if you need help let me know!"
   ]
  },
  {
   "cell_type": "code",
   "execution_count": 10,
   "id": "neural-demographic",
   "metadata": {},
   "outputs": [],
   "source": [
    "# assigning bio style variables to images\n",
    "mt = red_images\n",
    "er = yellow_images\n",
    "nu = blue_images\n",
    "pr = green_images\n",
    "images = [mt, er, nu]"
   ]
  },
  {
   "cell_type": "code",
   "execution_count": null,
   "id": "necessary-testing",
   "metadata": {},
   "outputs": [
    {
     "name": "stderr",
     "output_type": "stream",
     "text": [
      "No GPU found, using CPU.\n",
      "Could not find ./nuclei-model.pth. Downloading it now\n"
     ]
    },
    {
     "name": "stdout",
     "output_type": "stream",
     "text": [
      "please compile abn\n"
     ]
    },
    {
     "name": "stderr",
     "output_type": "stream",
     "text": [
      "C:\\Users\\Admin\\AppData\\Roaming\\Python\\Python39\\site-packages\\torch\\serialization.py:656: SourceChangeWarning: source code of class 'pytorch_zoo.unet.DPNUnet' has changed. you can retrieve the original source code by accessing the object's source attribute or set `torch.nn.Module.dump_patches = True` and use the patch tool to revert the changes.\n",
      "  warnings.warn(msg, SourceChangeWarning)\n",
      "C:\\Users\\Admin\\AppData\\Roaming\\Python\\Python39\\site-packages\\torch\\serialization.py:656: SourceChangeWarning: source code of class 'torch.nn.modules.container.ModuleList' has changed. you can retrieve the original source code by accessing the object's source attribute or set `torch.nn.Module.dump_patches = True` and use the patch tool to revert the changes.\n",
      "  warnings.warn(msg, SourceChangeWarning)\n",
      "C:\\Users\\Admin\\AppData\\Roaming\\Python\\Python39\\site-packages\\torch\\serialization.py:656: SourceChangeWarning: source code of class 'torch.nn.modules.container.Sequential' has changed. you can retrieve the original source code by accessing the object's source attribute or set `torch.nn.Module.dump_patches = True` and use the patch tool to revert the changes.\n",
      "  warnings.warn(msg, SourceChangeWarning)\n",
      "C:\\Users\\Admin\\AppData\\Roaming\\Python\\Python39\\site-packages\\torch\\serialization.py:656: SourceChangeWarning: source code of class 'torch.nn.modules.conv.Conv2d' has changed. you can retrieve the original source code by accessing the object's source attribute or set `torch.nn.Module.dump_patches = True` and use the patch tool to revert the changes.\n",
      "  warnings.warn(msg, SourceChangeWarning)\n",
      "C:\\Users\\Admin\\AppData\\Roaming\\Python\\Python39\\site-packages\\torch\\serialization.py:656: SourceChangeWarning: source code of class 'torch.nn.modules.activation.ReLU' has changed. you can retrieve the original source code by accessing the object's source attribute or set `torch.nn.Module.dump_patches = True` and use the patch tool to revert the changes.\n",
      "  warnings.warn(msg, SourceChangeWarning)\n",
      "C:\\Users\\Admin\\AppData\\Roaming\\Python\\Python39\\site-packages\\torch\\serialization.py:656: SourceChangeWarning: source code of class 'torch.nn.modules.upsampling.Upsample' has changed. you can retrieve the original source code by accessing the object's source attribute or set `torch.nn.Module.dump_patches = True` and use the patch tool to revert the changes.\n",
      "  warnings.warn(msg, SourceChangeWarning)\n",
      "C:\\Users\\Admin\\AppData\\Roaming\\Python\\Python39\\site-packages\\torch\\serialization.py:656: SourceChangeWarning: source code of class 'torch.nn.modules.batchnorm.BatchNorm2d' has changed. you can retrieve the original source code by accessing the object's source attribute or set `torch.nn.Module.dump_patches = True` and use the patch tool to revert the changes.\n",
      "  warnings.warn(msg, SourceChangeWarning)\n",
      "C:\\Users\\Admin\\AppData\\Roaming\\Python\\Python39\\site-packages\\torch\\serialization.py:656: SourceChangeWarning: source code of class 'torch.nn.modules.pooling.MaxPool2d' has changed. you can retrieve the original source code by accessing the object's source attribute or set `torch.nn.Module.dump_patches = True` and use the patch tool to revert the changes.\n",
      "  warnings.warn(msg, SourceChangeWarning)\n",
      "Could not find ./cell-model.pth. Downloading it now\n"
     ]
    }
   ],
   "source": [
    "# HPA\n",
    "import hpacellseg.cellsegmentator as cellsegmentator\n",
    "from hpacellseg.utils import label_cell, label_nuclei\n",
    "\n",
    "NUC_MODEL = \"./nuclei-model.pth\"\n",
    "CELL_MODEL = \"./cell-model.pth\"\n",
    "\n",
    "segmentator = cellsegmentator.CellSegmentator(\n",
    "    NUC_MODEL,\n",
    "    CELL_MODEL,\n",
    "    scale_factor=0.25,\n",
    "    device=\"cuda\",\n",
    "    padding=False,\n",
    "    multi_channel_model=True,\n",
    ")\n"
   ]
  },
  {
   "cell_type": "code",
   "execution_count": null,
   "id": "atmospheric-translation",
   "metadata": {},
   "outputs": [],
   "source": []
  }
 ],
 "metadata": {
  "kernelspec": {
   "display_name": "Python [conda env:hpa]",
   "language": "python",
   "name": "conda-env-hpa-py"
  },
  "language_info": {
   "codemirror_mode": {
    "name": "ipython",
    "version": 3
   },
   "file_extension": ".py",
   "mimetype": "text/x-python",
   "name": "python",
   "nbconvert_exporter": "python",
   "pygments_lexer": "ipython3",
   "version": "3.9.2"
  }
 },
 "nbformat": 4,
 "nbformat_minor": 5
}
