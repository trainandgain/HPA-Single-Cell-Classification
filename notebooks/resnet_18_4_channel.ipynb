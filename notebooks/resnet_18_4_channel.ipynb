{
 "cells": [
  {
   "cell_type": "markdown",
   "id": "plastic-chile",
   "metadata": {},
   "source": [
    "# Resnet18\n"
   ]
  },
  {
   "cell_type": "code",
   "execution_count": 1,
   "id": "lovely-testing",
   "metadata": {},
   "outputs": [],
   "source": [
    "# imports\n",
    "import pandas as pd\n",
    "from PIL import Image\n",
    "import random\n",
    "import matplotlib.pyplot as plt\n",
    "import numpy as np\n",
    "import glob\n",
    "\n",
    "# transformers\n",
    "from torchvision import transforms\n",
    "from skimage.transform import rescale, resize, downscale_local_mean\n",
    "\n",
    "# dataset imports\n",
    "import os\n",
    "import torch\n",
    "import torch.utils.data\n",
    "import torchvision\n",
    "import torch\n",
    "import torch.nn as nn\n",
    "\n",
    "# model imports\n",
    "import copy\n",
    "\n",
    "# evaluation imports\n",
    "import time\n",
    "from sklearn import metrics"
   ]
  },
  {
   "cell_type": "code",
   "execution_count": 2,
   "id": "romance-rebecca",
   "metadata": {},
   "outputs": [],
   "source": [
    "# model \n",
    "model = torchvision.models.resnet18()"
   ]
  },
  {
   "cell_type": "code",
   "execution_count": 3,
   "id": "respiratory-table",
   "metadata": {},
   "outputs": [],
   "source": [
    "# altering model for 4 channel input and 19 out features\n",
    "model.conv1 = nn.Conv2d(4, 64, (7, 7), \n",
    "                        stride=(2,2), \n",
    "                        padding=(3,3), \n",
    "                        bias=False)\n",
    "\n",
    "# output features to 3 classification\n",
    "model.fc = torch.nn.Sequential(\n",
    "    torch.nn.Linear(\n",
    "        in_features=512,\n",
    "        out_features=19\n",
    "    ),\n",
    "    torch.nn.Sigmoid()\n",
    ")"
   ]
  },
  {
   "cell_type": "code",
   "execution_count": 4,
   "id": "governmental-mainland",
   "metadata": {},
   "outputs": [
    {
     "data": {
      "text/plain": [
       "ResNet(\n",
       "  (conv1): Conv2d(4, 64, kernel_size=(7, 7), stride=(2, 2), padding=(3, 3), bias=False)\n",
       "  (bn1): BatchNorm2d(64, eps=1e-05, momentum=0.1, affine=True, track_running_stats=True)\n",
       "  (relu): ReLU(inplace=True)\n",
       "  (maxpool): MaxPool2d(kernel_size=3, stride=2, padding=1, dilation=1, ceil_mode=False)\n",
       "  (layer1): Sequential(\n",
       "    (0): BasicBlock(\n",
       "      (conv1): Conv2d(64, 64, kernel_size=(3, 3), stride=(1, 1), padding=(1, 1), bias=False)\n",
       "      (bn1): BatchNorm2d(64, eps=1e-05, momentum=0.1, affine=True, track_running_stats=True)\n",
       "      (relu): ReLU(inplace=True)\n",
       "      (conv2): Conv2d(64, 64, kernel_size=(3, 3), stride=(1, 1), padding=(1, 1), bias=False)\n",
       "      (bn2): BatchNorm2d(64, eps=1e-05, momentum=0.1, affine=True, track_running_stats=True)\n",
       "    )\n",
       "    (1): BasicBlock(\n",
       "      (conv1): Conv2d(64, 64, kernel_size=(3, 3), stride=(1, 1), padding=(1, 1), bias=False)\n",
       "      (bn1): BatchNorm2d(64, eps=1e-05, momentum=0.1, affine=True, track_running_stats=True)\n",
       "      (relu): ReLU(inplace=True)\n",
       "      (conv2): Conv2d(64, 64, kernel_size=(3, 3), stride=(1, 1), padding=(1, 1), bias=False)\n",
       "      (bn2): BatchNorm2d(64, eps=1e-05, momentum=0.1, affine=True, track_running_stats=True)\n",
       "    )\n",
       "  )\n",
       "  (layer2): Sequential(\n",
       "    (0): BasicBlock(\n",
       "      (conv1): Conv2d(64, 128, kernel_size=(3, 3), stride=(2, 2), padding=(1, 1), bias=False)\n",
       "      (bn1): BatchNorm2d(128, eps=1e-05, momentum=0.1, affine=True, track_running_stats=True)\n",
       "      (relu): ReLU(inplace=True)\n",
       "      (conv2): Conv2d(128, 128, kernel_size=(3, 3), stride=(1, 1), padding=(1, 1), bias=False)\n",
       "      (bn2): BatchNorm2d(128, eps=1e-05, momentum=0.1, affine=True, track_running_stats=True)\n",
       "      (downsample): Sequential(\n",
       "        (0): Conv2d(64, 128, kernel_size=(1, 1), stride=(2, 2), bias=False)\n",
       "        (1): BatchNorm2d(128, eps=1e-05, momentum=0.1, affine=True, track_running_stats=True)\n",
       "      )\n",
       "    )\n",
       "    (1): BasicBlock(\n",
       "      (conv1): Conv2d(128, 128, kernel_size=(3, 3), stride=(1, 1), padding=(1, 1), bias=False)\n",
       "      (bn1): BatchNorm2d(128, eps=1e-05, momentum=0.1, affine=True, track_running_stats=True)\n",
       "      (relu): ReLU(inplace=True)\n",
       "      (conv2): Conv2d(128, 128, kernel_size=(3, 3), stride=(1, 1), padding=(1, 1), bias=False)\n",
       "      (bn2): BatchNorm2d(128, eps=1e-05, momentum=0.1, affine=True, track_running_stats=True)\n",
       "    )\n",
       "  )\n",
       "  (layer3): Sequential(\n",
       "    (0): BasicBlock(\n",
       "      (conv1): Conv2d(128, 256, kernel_size=(3, 3), stride=(2, 2), padding=(1, 1), bias=False)\n",
       "      (bn1): BatchNorm2d(256, eps=1e-05, momentum=0.1, affine=True, track_running_stats=True)\n",
       "      (relu): ReLU(inplace=True)\n",
       "      (conv2): Conv2d(256, 256, kernel_size=(3, 3), stride=(1, 1), padding=(1, 1), bias=False)\n",
       "      (bn2): BatchNorm2d(256, eps=1e-05, momentum=0.1, affine=True, track_running_stats=True)\n",
       "      (downsample): Sequential(\n",
       "        (0): Conv2d(128, 256, kernel_size=(1, 1), stride=(2, 2), bias=False)\n",
       "        (1): BatchNorm2d(256, eps=1e-05, momentum=0.1, affine=True, track_running_stats=True)\n",
       "      )\n",
       "    )\n",
       "    (1): BasicBlock(\n",
       "      (conv1): Conv2d(256, 256, kernel_size=(3, 3), stride=(1, 1), padding=(1, 1), bias=False)\n",
       "      (bn1): BatchNorm2d(256, eps=1e-05, momentum=0.1, affine=True, track_running_stats=True)\n",
       "      (relu): ReLU(inplace=True)\n",
       "      (conv2): Conv2d(256, 256, kernel_size=(3, 3), stride=(1, 1), padding=(1, 1), bias=False)\n",
       "      (bn2): BatchNorm2d(256, eps=1e-05, momentum=0.1, affine=True, track_running_stats=True)\n",
       "    )\n",
       "  )\n",
       "  (layer4): Sequential(\n",
       "    (0): BasicBlock(\n",
       "      (conv1): Conv2d(256, 512, kernel_size=(3, 3), stride=(2, 2), padding=(1, 1), bias=False)\n",
       "      (bn1): BatchNorm2d(512, eps=1e-05, momentum=0.1, affine=True, track_running_stats=True)\n",
       "      (relu): ReLU(inplace=True)\n",
       "      (conv2): Conv2d(512, 512, kernel_size=(3, 3), stride=(1, 1), padding=(1, 1), bias=False)\n",
       "      (bn2): BatchNorm2d(512, eps=1e-05, momentum=0.1, affine=True, track_running_stats=True)\n",
       "      (downsample): Sequential(\n",
       "        (0): Conv2d(256, 512, kernel_size=(1, 1), stride=(2, 2), bias=False)\n",
       "        (1): BatchNorm2d(512, eps=1e-05, momentum=0.1, affine=True, track_running_stats=True)\n",
       "      )\n",
       "    )\n",
       "    (1): BasicBlock(\n",
       "      (conv1): Conv2d(512, 512, kernel_size=(3, 3), stride=(1, 1), padding=(1, 1), bias=False)\n",
       "      (bn1): BatchNorm2d(512, eps=1e-05, momentum=0.1, affine=True, track_running_stats=True)\n",
       "      (relu): ReLU(inplace=True)\n",
       "      (conv2): Conv2d(512, 512, kernel_size=(3, 3), stride=(1, 1), padding=(1, 1), bias=False)\n",
       "      (bn2): BatchNorm2d(512, eps=1e-05, momentum=0.1, affine=True, track_running_stats=True)\n",
       "    )\n",
       "  )\n",
       "  (avgpool): AdaptiveAvgPool2d(output_size=(1, 1))\n",
       "  (fc): Sequential(\n",
       "    (0): Linear(in_features=512, out_features=19, bias=True)\n",
       "    (1): Sigmoid()\n",
       "  )\n",
       ")"
      ]
     },
     "execution_count": 4,
     "metadata": {},
     "output_type": "execute_result"
    }
   ],
   "source": [
    "model"
   ]
  },
  {
   "cell_type": "markdown",
   "id": "continental-plane",
   "metadata": {},
   "source": [
    "## Loading Dataframe"
   ]
  },
  {
   "cell_type": "code",
   "execution_count": 5,
   "id": "patent-street",
   "metadata": {},
   "outputs": [],
   "source": [
    "df = pd.read_csv('../input/train.csv')\n",
    "# shuffle the DataFrame rows\n",
    "df = df.sample(frac = 1).reset_index(drop=True)\n",
    "# Transform string label to 19 one-hot columns\n",
    "cols = [str(i) for i in list(range(19))]\n",
    "df[cols] = np.nan\n",
    "\n",
    "# Apply mapping\n",
    "def encoder(row):\n",
    "    labels = row['Label'].split('|')\n",
    "    for label in labels:\n",
    "        row[label] = 1    \n",
    "    return row\n",
    "\n",
    "df = df.apply(encoder, axis=1)\n",
    "df.fillna(0, inplace=True)"
   ]
  },
  {
   "cell_type": "code",
   "execution_count": 6,
   "id": "intensive-processor",
   "metadata": {
    "scrolled": true
   },
   "outputs": [
    {
     "name": "stdout",
     "output_type": "stream",
     "text": [
      "<class 'pandas.core.frame.DataFrame'>\n",
      "RangeIndex: 21806 entries, 0 to 21805\n",
      "Data columns (total 21 columns):\n",
      " #   Column  Non-Null Count  Dtype  \n",
      "---  ------  --------------  -----  \n",
      " 0   ID      21806 non-null  object \n",
      " 1   Label   21806 non-null  object \n",
      " 2   0       21806 non-null  float64\n",
      " 3   1       21806 non-null  float64\n",
      " 4   2       21806 non-null  float64\n",
      " 5   3       21806 non-null  float64\n",
      " 6   4       21806 non-null  float64\n",
      " 7   5       21806 non-null  float64\n",
      " 8   6       21806 non-null  float64\n",
      " 9   7       21806 non-null  float64\n",
      " 10  8       21806 non-null  float64\n",
      " 11  9       21806 non-null  float64\n",
      " 12  10      21806 non-null  float64\n",
      " 13  11      21806 non-null  float64\n",
      " 14  12      21806 non-null  float64\n",
      " 15  13      21806 non-null  float64\n",
      " 16  14      21806 non-null  float64\n",
      " 17  15      21806 non-null  float64\n",
      " 18  16      21806 non-null  float64\n",
      " 19  17      21806 non-null  float64\n",
      " 20  18      21806 non-null  float64\n",
      "dtypes: float64(19), object(2)\n",
      "memory usage: 3.5+ MB\n"
     ]
    }
   ],
   "source": [
    "df.info()"
   ]
  },
  {
   "cell_type": "markdown",
   "id": "third-effects",
   "metadata": {},
   "source": [
    "## Transformations"
   ]
  },
  {
   "cell_type": "code",
   "execution_count": 7,
   "id": "prompt-belly",
   "metadata": {},
   "outputs": [],
   "source": [
    "class Tile(object):\n",
    "    \"\"\"\n",
    "    Takes in:\n",
    "    imgs = {\n",
    "            'red': Image.open(r_path),\n",
    "            'green': Image.open(g_path),\n",
    "            'blue': Image.open(b_path),\n",
    "            'yellow': Image.open(y_path),\n",
    "            'mask': Image.open(mask_path)\n",
    "        }\n",
    "    \n",
    "    target = {\n",
    "        'image_id': torch.tensor([idx]),\n",
    "        'labels': np.array(df.iloc[idx, 3:])\n",
    "    }\n",
    "    Outputs:\n",
    "    \n",
    "    imgs = {\n",
    "            'tiles': tiles\n",
    "        }\n",
    "        \n",
    "    target = {\n",
    "        'image_id': torch.tensor([idx]),\n",
    "        'labels': np.array(df.iloc[idx, 3:])\n",
    "    }\n",
    "    \"\"\"\n",
    "    @staticmethod\n",
    "    def tiled_img(r, g, b, y, box):\n",
    "        \"\"\"\n",
    "        Find center of box. Crop the image using PIL\n",
    "        at center, using desired tile size.\n",
    "        \"\"\"\n",
    "        # (xmax-xmin) / 2 , (ymax - ymin) /2\n",
    "        center = ( (box[2]-box[0])/2, (box[3]-box[1])/2 )\n",
    "        left = box[0]\n",
    "        top = box[1]\n",
    "        right = box[2]\n",
    "        bottom = box[3]\n",
    "        \n",
    "        # crop channels\n",
    "        r = r.crop((left, top, right, bottom))\n",
    "        g = g.crop((left, top, right, bottom))\n",
    "        b = b.crop((left, top, right, bottom))\n",
    "        y = y.crop((left, top, right, bottom))\n",
    "        \n",
    "        # return cropped channels using PIL \n",
    "        rgby = np.dstack((r,g,b,y))\n",
    "    \n",
    "        return(rgby)\n",
    "    \n",
    "    \n",
    "    @staticmethod\n",
    "    def split_mask(mask):\n",
    "        # convert to array for individual segments\n",
    "        mask = np.array(mask)\n",
    "        # split into different segmentations\n",
    "        obj_ids = np.unique(mask)\n",
    "        # 0 is background, get rid\n",
    "        obj_ids = obj_ids[1:]\n",
    "        \n",
    "        # split color-encoded mask into\n",
    "        # a set of binary masks\n",
    "        \n",
    "        masks = mask == obj_ids[:, None, None] # HOW DOES THIS WORK\n",
    "        \n",
    "        # get bounding box coordinates for each mask\n",
    "        num_objs = len(obj_ids)\n",
    "        boxes = []\n",
    "        for i in range(num_objs):\n",
    "            pos = np.where(masks[i])\n",
    "            xmin = np.min(pos[1])\n",
    "            xmax = np.max(pos[1])\n",
    "            ymin = np.min(pos[0])\n",
    "            ymax = np.max(pos[0])\n",
    "            boxes.append([xmin, ymin, xmax, ymax])\n",
    "        return boxes\n",
    "        \n",
    "        \n",
    "    @staticmethod\n",
    "    def gen_labels(labels, num_objs):\n",
    "        \"\"\"\n",
    "        Take in numpy array of one hot encoded labels\n",
    "        output:\n",
    "        [N, OHE labels]\n",
    "        where N is the number of objects or tiles\n",
    "        \"\"\"\n",
    "        return [labels for i in range(num_objs)]\n",
    "        \n",
    "        \n",
    "    def __call__(self, sample):\n",
    "        imgs, target = sample\n",
    "        \n",
    "        # get masks\n",
    "        boxes = self.split_mask(imgs['mask'])\n",
    "         \n",
    "        # list of tiled imgs\n",
    "        tiles = list()\n",
    "        for box in boxes:\n",
    "            tiles.append(self.tiled_img(imgs['red'],\n",
    "                                        imgs['green'],\n",
    "                                        imgs['blue'],\n",
    "                                        imgs['yellow'],\n",
    "                                        box))\n",
    "            \n",
    "        # target\n",
    "        new_target = {\n",
    "        'image_id': target['image_id'],\n",
    "        'labels': self.gen_labels(target['labels'], len(boxes))\n",
    "        }\n",
    "        \n",
    "        \n",
    "        return ((tiles, new_target))"
   ]
  },
  {
   "cell_type": "code",
   "execution_count": 8,
   "id": "solved-introduction",
   "metadata": {},
   "outputs": [],
   "source": [
    "class Rescale(object):\n",
    "    \"\"\"\n",
    "    Rescale the tiles received.\n",
    "    Return rescaled 4 channel images (numpy)\n",
    "    \"\"\"\n",
    "\n",
    "    def __init__(self, output_size):\n",
    "        assert isinstance(output_size, (int, tuple)) # check output size is \n",
    "                                                     # right format\n",
    "        self.output_size = output_size\n",
    "\n",
    "    def __call__(self, sample):\n",
    "        \n",
    "        imgs, target = sample\n",
    "        for i in range(len(imgs)):\n",
    "            # numpy.shape responds with (H, W, C)\n",
    "            h = imgs[i].shape[0] \n",
    "            w = imgs[i].shape[1] \n",
    "\n",
    "            if isinstance(self.output_size, int):\n",
    "                if h > w:\n",
    "                    new_h, new_w = self.output_size * h / w, self.output_size\n",
    "                else:\n",
    "                    new_h, new_w = self.output_size, self.output_size * w / h\n",
    "            else:\n",
    "                new_h, new_w = self.output_size\n",
    "\n",
    "            new_h, new_w = int(new_h), int(new_w)\n",
    "\n",
    "            #resize iamge\n",
    "            imgs[i] = resize(imgs[i], \n",
    "                             (new_h, new_w))\n",
    "        return ((imgs, target))"
   ]
  },
  {
   "cell_type": "code",
   "execution_count": 9,
   "id": "interpreted-treaty",
   "metadata": {},
   "outputs": [],
   "source": [
    "class ImageToTensor(object):\n",
    "    \"\"\"\n",
    "    Custom to tensor class, does not accept dictionary.\n",
    "    \"\"\"\n",
    "\n",
    "    @staticmethod\n",
    "    def image_tensor(imgs):\n",
    "        return [torch.from_numpy(im).permute(2,0,1) for im in imgs]\n",
    "    \n",
    "    \n",
    "    @staticmethod\n",
    "    def idx_tensor(idx):\n",
    "        return torch.tensor(idx)\n",
    "    \n",
    "    \n",
    "    @staticmethod\n",
    "    def labels_tensor(labels):\n",
    "        return[torch.from_numpy(l) for l in labels]\n",
    "    \n",
    "    \n",
    "    def __call__(self, sample):\n",
    "        imgs, target = sample\n",
    "        # torch image: C X H X W\n",
    "        t_tiles = self.image_tensor(imgs)\n",
    "        idx = self.idx_tensor(target['image_id'])\n",
    "        labels = self.labels_tensor(target['labels'])\n",
    "        \n",
    "        new_target = {\n",
    "            'image_id': idx,\n",
    "            'labels': labels\n",
    "        }\n",
    "        return ((t_tiles, new_target))"
   ]
  },
  {
   "cell_type": "code",
   "execution_count": 10,
   "id": "fixed-program",
   "metadata": {},
   "outputs": [],
   "source": [
    "# define transforms\n",
    "def get_transform():\n",
    "    custom_transforms = [Tile(), Rescale((224,224)), \n",
    "                         ImageToTensor()]\n",
    "    return torchvision.transforms.Compose(custom_transforms)"
   ]
  },
  {
   "cell_type": "markdown",
   "id": "optional-request",
   "metadata": {},
   "source": [
    "## Dataset"
   ]
  },
  {
   "cell_type": "code",
   "execution_count": 11,
   "id": "cardiovascular-three",
   "metadata": {},
   "outputs": [],
   "source": [
    "class HPAImageDataset(object):\n",
    "    \n",
    "    \n",
    "    def __init__(self, root, transforms, df):\n",
    "        self.root = root\n",
    "        self.df = df\n",
    "        self.transforms = transforms\n",
    " \n",
    "\n",
    "    def __len__(self):\n",
    "        return(len(self.df))\n",
    "                          \n",
    "    \n",
    "    def __getitem__(self, idx):\n",
    "        # load channels and masks for idx\n",
    "        r_path = os.path.join(self.root, \"image\", \n",
    "                              self.df.ID[idx]+'_red.png')\n",
    "        g_path = os.path.join(self.root, \"image\", \n",
    "                              self.df.ID[idx]+'_green.png')\n",
    "        b_path = os.path.join(self.root, \"image\", \n",
    "                              self.df.ID[idx]+'_blue.png')\n",
    "        y_path = os.path.join(self.root, \"image\", \n",
    "                              self.df.ID[idx]+'_yellow.png')\n",
    "        \n",
    "        mask_path = os.path.join(self.root, \n",
    "                                 \"mask\", \n",
    "                                 self.df.ID[idx]+'_predictedmask.png')\n",
    "\n",
    "        # open imgs in PIL\n",
    "        imgs = {\n",
    "            'red': Image.open(r_path),\n",
    "            'green': Image.open(g_path),\n",
    "            'blue': Image.open(b_path),\n",
    "            'yellow': Image.open(y_path),\n",
    "            'mask': Image.open(mask_path)\n",
    "        }\n",
    "    \n",
    "        #define target\n",
    "        target = {\n",
    "            'image_id': idx,\n",
    "            'labels': self.df.iloc[0, 2:].to_numpy(dtype='float16')\n",
    "        }\n",
    "        \n",
    "        if self.transforms is not None:\n",
    "            # torchvision compose only accepts single input\n",
    "            sample = self.transforms((imgs, target))\n",
    "            imgs, target = sample\n",
    "        # return((imgs, target))  if we want to include imge ID\n",
    "        return((imgs, target['labels']))"
   ]
  },
  {
   "cell_type": "code",
   "execution_count": 12,
   "id": "patient-longitude",
   "metadata": {},
   "outputs": [],
   "source": [
    "ROOT_DIR = '../input/image_subset/'\n",
    "\n",
    "# create own Dataset\n",
    "transformed_dataset = HPAImageDataset(root=ROOT_DIR,\n",
    "                          transforms=get_transform(),\n",
    "                          df=df,\n",
    "                          )"
   ]
  },
  {
   "cell_type": "code",
   "execution_count": 13,
   "id": "proprietary-strand",
   "metadata": {},
   "outputs": [
    {
     "data": {
      "text/plain": [
       "torch.Size([4, 224, 224])"
      ]
     },
     "execution_count": 13,
     "metadata": {},
     "output_type": "execute_result"
    }
   ],
   "source": [
    "# single tiled output\n",
    "transformed_dataset[0][0][0].shape"
   ]
  },
  {
   "cell_type": "code",
   "execution_count": 14,
   "id": "hispanic-nelson",
   "metadata": {},
   "outputs": [
    {
     "data": {
      "text/plain": [
       "torch.Size([19])"
      ]
     },
     "execution_count": 14,
     "metadata": {},
     "output_type": "execute_result"
    }
   ],
   "source": [
    "# number of cols\n",
    "transformed_dataset[0][1][0].shape"
   ]
  },
  {
   "cell_type": "markdown",
   "id": "original-flour",
   "metadata": {},
   "source": [
    "## Dataloader"
   ]
  },
  {
   "cell_type": "code",
   "execution_count": 15,
   "id": "prospective-prediction",
   "metadata": {},
   "outputs": [
    {
     "name": "stdout",
     "output_type": "stream",
     "text": [
      "800\n",
      "200\n"
     ]
    }
   ],
   "source": [
    "def collate_fn(batch):\n",
    "    anno = []\n",
    "    tiles = []\n",
    "    for b in batch:\n",
    "        for label in b[1]:\n",
    "            anno.append(label)\n",
    "        for tile in b[0]:\n",
    "            tiles.append(tile)\n",
    "    return tuple(zip(tiles, anno))\n",
    "\n",
    "# set train val split\n",
    "\n",
    "\"\"\"\n",
    "Stratified K Folding would be better.\n",
    "\"\"\"\n",
    "# how much of the dataset do you want to train on\n",
    "subset_dataset = torch.utils.data.Subset(transformed_dataset, \n",
    "                                        list(range(0, 1000)))\n",
    "split = int(0.8 * len(subset_dataset))\n",
    "\n",
    "# batch size\n",
    "batch_s = 1\n",
    "\n",
    "# train dataset & dataloader\n",
    "dataset_train = torch.utils.data.Subset(subset_dataset, \n",
    "                                        list(range(0,split)))\n",
    "\n",
    "train_loader = torch.utils.data.DataLoader(dataset_train,\n",
    "                                          batch_size=batch_s,\n",
    "                                          shuffle=True, collate_fn=collate_fn)\n",
    "\n",
    "# test dataset & dataloader\n",
    "dataset_test = torch.utils.data.Subset(subset_dataset,\n",
    "                                     list(range(split, len(subset_dataset))))\n",
    "test_loader = torch.utils.data.DataLoader(dataset_test,\n",
    "                                          batch_size=1,\n",
    "                                          shuffle=False, collate_fn=collate_fn)\n",
    "print(len(dataset_train))\n",
    "print(len(dataset_test))\n",
    "\n",
    "dataloaders = {\n",
    "    \"train\": train_loader,\n",
    "    \"test\": test_loader\n",
    "}"
   ]
  },
  {
   "cell_type": "code",
   "execution_count": 16,
   "id": "neural-algeria",
   "metadata": {},
   "outputs": [
    {
     "name": "stdout",
     "output_type": "stream",
     "text": [
      "This Image has label: tensor([1., 0., 1., 0., 0., 0., 0., 0., 0., 1., 0., 0., 0., 0., 0., 0., 1., 0.,\n",
      "        0.], dtype=torch.float16)\n"
     ]
    },
    {
     "data": {
      "image/png": "[encoded data removed]",
      "text/plain": [
       "<PIL.Image.Image image mode=RGB size=224x224 at 0x16B0E7C31C0>"
      ]
     },
     "execution_count": 16,
     "metadata": {},
     "output_type": "execute_result"
    }
   ],
   "source": [
    "single_batch = next(iter(train_loader))\n",
    "print('This Image has label: {}'.format(single_batch[0][1]))\n",
    "# sigle_batch[img ro label][img_n][tile_n]\n",
    "(transforms.ToPILImage(mode='RGB')(single_batch[0][0][:3, :, :]))"
   ]
  },
  {
   "cell_type": "markdown",
   "id": "mathematical-teaching",
   "metadata": {},
   "source": [
    "## Training"
   ]
  },
  {
   "cell_type": "code",
   "execution_count": 17,
   "id": "mature-bidding",
   "metadata": {},
   "outputs": [
    {
     "name": "stdout",
     "output_type": "stream",
     "text": [
      "Setup is correct\n"
     ]
    }
   ],
   "source": [
    "if len(train_loader) * batch_s == len(dataset_train):\n",
    "    print('Setup is correct')"
   ]
  },
  {
   "cell_type": "code",
   "execution_count": 18,
   "id": "ec2e7710",
   "metadata": {},
   "outputs": [],
   "source": [
    "loss_log = list()"
   ]
  },
  {
   "cell_type": "code",
   "execution_count": 19,
   "id": "documented-popularity",
   "metadata": {},
   "outputs": [],
   "source": [
    "def train_loop(dataloader, model, loss_fn, optimizer, USE_GPU=False):\n",
    "    \"\"\"\n",
    "    Training loop\n",
    "    \"\"\"\n",
    "    # send model to gpu\n",
    "    if USE_GPU:\n",
    "        model = model.cuda()\n",
    "    # get length of dataset\n",
    "    size = len(dataloader.dataset)\n",
    "    # set model for training\n",
    "    model.train()\n",
    "    \n",
    "    # counters and logs\n",
    "    sample_count = 0\n",
    "    \n",
    "    # go through batches\n",
    "    for j, batch in enumerate(dataloader):\n",
    "        for k in range(len(batch)):           \n",
    "            # [N, C, W, H]\n",
    "            X = batch[k][0].unsqueeze(0).float() # model requires tensor stack\n",
    "            # [N, 19]\n",
    "            y = torch.reshape(batch[k][1], (1,19))\n",
    "            \n",
    "            # send to cuda for gpu training\n",
    "            if USE_GPU:\n",
    "                X = X.cuda()\n",
    "                y = y.cuda()\n",
    "            \n",
    "            with torch.set_grad_enabled(True):\n",
    "                # compute predictions and loss\n",
    "                pred = model(X)\n",
    "                loss = loss_fn(pred, y.float())\n",
    "                \n",
    "                # log loss\n",
    "                loss_log.append(loss.item())\n",
    "                \n",
    "                # Backpropagation\n",
    "                optimizer.zero_grad()\n",
    "                loss.backward()\n",
    "                optimizer.step()\n",
    "                \n",
    "            if j==0:\n",
    "                print('####################################')\n",
    "                print('Predicted: ')\n",
    "                print(pred)\n",
    "                print('Ground Truth: ')\n",
    "                print(y)\n",
    "                print('Loss: ')\n",
    "                print(loss.item())\n",
    "                print('####################################')\n",
    "                \n",
    "            # increment number of samples, only 1 at a time\n",
    "            sample_count+=1\n",
    "            \n",
    "        if j%10 == 0:\n",
    "            loss, current = loss.item(), j\n",
    "            print(f\"loss: {loss:>7f}  [{current:>5d}/{size:>5d}]\")"
   ]
  },
  {
   "cell_type": "code",
   "execution_count": 20,
   "id": "gothic-tactics",
   "metadata": {},
   "outputs": [],
   "source": [
    "def test_loop(dataloader, model, loss_fn, threshold=0.5, USE_GPU=False):\n",
    "    \"\"\"\n",
    "    Testing loop   \n",
    "    \"\"\"\n",
    "    # send model to gpu\n",
    "    if USE_GPU:\n",
    "        model = model.cuda()\n",
    "        \n",
    "    # for testing only \n",
    "    model.eval()\n",
    "    \n",
    "    # counting and stats\n",
    "    size = len(dataloader.dataset)\n",
    "    test_loss, correct, sample_count = 0, 0, 0\n",
    "    \n",
    "    for batch in dataloader:\n",
    "        for k in range(len(batch)):\n",
    "\n",
    "            if sample_count == 5:\n",
    "                break\n",
    "            # [N, C, W, H]\n",
    "            X = batch[k][0].unsqueeze(0).float()\n",
    "            # [N, 19]\n",
    "            y = torch.reshape(batch[k][1], (1,19))        \n",
    "            if USE_GPU:\n",
    "                X = X.cuda()\n",
    "                y = y.cuda()\n",
    "        \n",
    "            # stats\n",
    "            sample_count += 1 # 1 sample per k\n",
    "            with torch.no_grad():\n",
    "                pred = model(X)\n",
    "            test_loss += loss_fn(pred, y.float()).item()\n",
    "            correct += torch.sum((pred >= threshold).float() == y.float()).item()\n",
    "                \n",
    "                \n",
    "    test_loss /= sample_count\n",
    "    correct /= (sample_count*19)\n",
    "    print(f\"Test Error: \\n Accuracy: {(100*correct):>0.1f}%, Avg loss: {test_loss:>8f} \\n\")\n",
    "    return(test_loss, correct)"
   ]
  },
  {
   "cell_type": "code",
   "execution_count": 21,
   "id": "external-flashing",
   "metadata": {
    "scrolled": true
   },
   "outputs": [
    {
     "name": "stdout",
     "output_type": "stream",
     "text": [
      "Epoch 1\n",
      "-------------------------------\n",
      "####################################\n",
      "Predicted: \n",
      "tensor([[0.2186, 0.7559, 0.3743, 0.6303, 0.5005, 0.1099, 0.4317, 0.9323, 0.7619,\n",
      "         0.6549, 0.2690, 0.5168, 0.4187, 0.7599, 0.2284, 0.3512, 0.6111, 0.0701,\n",
      "         0.2600]], device='cuda:0', grad_fn=<SigmoidBackward>)\n",
      "Ground Truth: \n",
      "tensor([[1., 0., 1., 0., 0., 0., 0., 0., 0., 1., 0., 0., 0., 0., 0., 0., 1., 0.,\n",
      "         0.]], device='cuda:0', dtype=torch.float16)\n",
      "Loss: \n",
      "0.8107000589370728\n",
      "####################################\n",
      "####################################\n",
      "Predicted: \n",
      "tensor([[0.3409, 0.6004, 0.5153, 0.5306, 0.3219, 0.0948, 0.2733, 0.8717, 0.6470,\n",
      "         0.7963, 0.1748, 0.3122, 0.3214, 0.6510, 0.1415, 0.2570, 0.6845, 0.0454,\n",
      "         0.2158]], device='cuda:0', grad_fn=<SigmoidBackward>)\n",
      "Ground Truth: \n",
      "tensor([[1., 0., 1., 0., 0., 0., 0., 0., 0., 1., 0., 0., 0., 0., 0., 0., 1., 0.,\n",
      "         0.]], device='cuda:0', dtype=torch.float16)\n",
      "Loss: \n",
      "0.5614383220672607\n",
      "####################################\n",
      "####################################\n",
      "Predicted: \n",
      "tensor([[0.5611, 0.3898, 0.6826, 0.3276, 0.1886, 0.0542, 0.1688, 0.6393, 0.4399,\n",
      "         0.8671, 0.1161, 0.2191, 0.1973, 0.3937, 0.0850, 0.1396, 0.8339, 0.0279,\n",
      "         0.1113]], device='cuda:0', grad_fn=<SigmoidBackward>)\n",
      "Ground Truth: \n",
      "tensor([[1., 0., 1., 0., 0., 0., 0., 0., 0., 1., 0., 0., 0., 0., 0., 0., 1., 0.,\n",
      "         0.]], device='cuda:0', dtype=torch.float16)\n",
      "Loss: \n",
      "0.30000120401382446\n",
      "####################################\n",
      "####################################\n",
      "Predicted: \n",
      "tensor([[0.7686, 0.2133, 0.8398, 0.1868, 0.1422, 0.0336, 0.0763, 0.3681, 0.2037,\n",
      "         0.9381, 0.0662, 0.1252, 0.1074, 0.2291, 0.0528, 0.0834, 0.8896, 0.0177,\n",
      "         0.0635]], device='cuda:0', grad_fn=<SigmoidBackward>)\n",
      "Ground Truth: \n",
      "tensor([[1., 0., 1., 0., 0., 0., 0., 0., 0., 1., 0., 0., 0., 0., 0., 0., 1., 0.,\n",
      "         0.]], device='cuda:0', dtype=torch.float16)\n",
      "Loss: \n",
      "0.14840567111968994\n",
      "####################################\n",
      "####################################\n",
      "Predicted: \n",
      "tensor([[0.8695, 0.1203, 0.9052, 0.1386, 0.0812, 0.0250, 0.0423, 0.1907, 0.1187,\n",
      "         0.9523, 0.0537, 0.0876, 0.0721, 0.1257, 0.0364, 0.0543, 0.9441, 0.0138,\n",
      "         0.0427]], device='cuda:0', grad_fn=<SigmoidBackward>)\n",
      "Ground Truth: \n",
      "tensor([[1., 0., 1., 0., 0., 0., 0., 0., 0., 1., 0., 0., 0., 0., 0., 0., 1., 0.,\n",
      "         0.]], device='cuda:0', dtype=torch.float16)\n",
      "Loss: \n",
      "0.08530047535896301\n",
      "####################################\n",
      "####################################\n",
      "Predicted: \n",
      "tensor([[0.9307, 0.0685, 0.9477, 0.0765, 0.0499, 0.0193, 0.0236, 0.0824, 0.0634,\n",
      "         0.9754, 0.0343, 0.0565, 0.0451, 0.0657, 0.0244, 0.0397, 0.9676, 0.0106,\n",
      "         0.0338]], device='cuda:0', grad_fn=<SigmoidBackward>)\n",
      "Ground Truth: \n",
      "tensor([[1., 0., 1., 0., 0., 0., 0., 0., 0., 1., 0., 0., 0., 0., 0., 0., 1., 0.,\n",
      "         0.]], device='cuda:0', dtype=torch.float16)\n",
      "Loss: \n",
      "0.047223202884197235\n",
      "####################################\n",
      "####################################\n",
      "Predicted: \n",
      "tensor([[0.9467, 0.0534, 0.9591, 0.0560, 0.0384, 0.0105, 0.0205, 0.0863, 0.0541,\n",
      "         0.9812, 0.0224, 0.0369, 0.0300, 0.0568, 0.0142, 0.0235, 0.9759, 0.0062,\n",
      "         0.0195]], device='cuda:0', grad_fn=<SigmoidBackward>)\n",
      "Ground Truth: \n",
      "tensor([[1., 0., 1., 0., 0., 0., 0., 0., 0., 1., 0., 0., 0., 0., 0., 0., 1., 0.,\n",
      "         0.]], device='cuda:0', dtype=torch.float16)\n",
      "Loss: \n",
      "0.03588571399450302\n",
      "####################################\n",
      "####################################\n",
      "Predicted: \n",
      "tensor([[0.9592, 0.0344, 0.9708, 0.0400, 0.0235, 0.0085, 0.0160, 0.0652, 0.0393,\n",
      "         0.9847, 0.0149, 0.0263, 0.0209, 0.0437, 0.0104, 0.0157, 0.9837, 0.0043,\n",
      "         0.0147]], device='cuda:0', grad_fn=<SigmoidBackward>)\n",
      "Ground Truth: \n",
      "tensor([[1., 0., 1., 0., 0., 0., 0., 0., 0., 1., 0., 0., 0., 0., 0., 0., 1., 0.,\n",
      "         0.]], device='cuda:0', dtype=torch.float16)\n",
      "Loss: \n",
      "0.025685401633381844\n",
      "####################################\n",
      "loss: 0.025685  [    0/  800]\n",
      "loss: 0.000286  [   10/  800]\n",
      "loss: 0.000080  [   20/  800]\n",
      "loss: 0.000048  [   30/  800]\n",
      "loss: 0.000030  [   40/  800]\n",
      "loss: 0.000023  [   50/  800]\n",
      "loss: 0.000010  [   60/  800]\n",
      "loss: 0.000015  [   70/  800]\n",
      "loss: 0.000009  [   80/  800]\n",
      "loss: 0.000007  [   90/  800]\n",
      "loss: 0.000005  [  100/  800]\n",
      "loss: 0.000004  [  110/  800]\n",
      "loss: 0.000007  [  120/  800]\n",
      "loss: 0.000003  [  130/  800]\n",
      "loss: 0.000003  [  140/  800]\n",
      "loss: 0.000003  [  150/  800]\n",
      "loss: 0.000002  [  160/  800]\n",
      "loss: 0.000002  [  170/  800]\n",
      "loss: 0.000001  [  180/  800]\n",
      "loss: 0.000001  [  190/  800]\n",
      "loss: 0.000002  [  200/  800]\n",
      "loss: 0.000001  [  210/  800]\n",
      "loss: 0.000001  [  220/  800]\n",
      "loss: 0.000001  [  230/  800]\n",
      "loss: 0.000001  [  240/  800]\n",
      "loss: 0.000000  [  250/  800]\n",
      "loss: 0.000001  [  260/  800]\n",
      "loss: 0.000000  [  270/  800]\n",
      "loss: 0.000000  [  280/  800]\n",
      "loss: 0.000001  [  290/  800]\n",
      "loss: 0.000000  [  300/  800]\n",
      "loss: 0.000000  [  310/  800]\n",
      "loss: 0.000000  [  320/  800]\n",
      "loss: 0.000000  [  330/  800]\n",
      "loss: 0.000000  [  340/  800]\n",
      "loss: 0.000000  [  350/  800]\n",
      "loss: 0.000000  [  360/  800]\n",
      "loss: 0.000000  [  370/  800]\n",
      "loss: 0.000000  [  380/  800]\n",
      "loss: 0.000000  [  390/  800]\n",
      "loss: 0.000000  [  400/  800]\n",
      "loss: 0.000000  [  410/  800]\n",
      "loss: 0.000000  [  420/  800]\n",
      "loss: 0.000000  [  430/  800]\n",
      "loss: 0.000000  [  440/  800]\n",
      "loss: 0.000000  [  450/  800]\n",
      "loss: 0.000000  [  460/  800]\n",
      "loss: 0.000000  [  470/  800]\n",
      "loss: 0.000000  [  480/  800]\n",
      "loss: 0.000000  [  490/  800]\n",
      "loss: 0.000000  [  500/  800]\n",
      "loss: 0.000000  [  510/  800]\n",
      "loss: 0.000000  [  520/  800]\n",
      "loss: 0.000000  [  530/  800]\n",
      "loss: 0.000000  [  540/  800]\n",
      "loss: 0.000000  [  550/  800]\n",
      "loss: 0.000000  [  560/  800]\n",
      "loss: 0.000000  [  570/  800]\n",
      "loss: 0.000000  [  580/  800]\n",
      "loss: 0.000000  [  590/  800]\n",
      "loss: 0.000000  [  600/  800]\n",
      "loss: 0.000000  [  610/  800]\n",
      "loss: 0.000000  [  620/  800]\n",
      "loss: 0.000000  [  630/  800]\n",
      "loss: 0.000000  [  640/  800]\n",
      "loss: 0.000000  [  650/  800]\n",
      "loss: 0.000000  [  660/  800]\n",
      "loss: 0.000000  [  670/  800]\n",
      "loss: 0.000000  [  680/  800]\n",
      "loss: 0.000000  [  690/  800]\n",
      "loss: 0.000000  [  700/  800]\n",
      "loss: 0.000000  [  710/  800]\n",
      "loss: 0.000000  [  720/  800]\n",
      "loss: 0.000000  [  730/  800]\n",
      "loss: 0.000000  [  740/  800]\n",
      "loss: 0.000000  [  750/  800]\n",
      "loss: 0.000000  [  760/  800]\n",
      "loss: 0.000000  [  770/  800]\n",
      "loss: 0.000000  [  780/  800]\n",
      "loss: 0.000000  [  790/  800]\n",
      "Test Error: \n",
      " Accuracy: 100.0%, Avg loss: 0.000000 \n",
      "\n",
      "Saving model weights...\n",
      "Done!\n"
     ]
    }
   ],
   "source": [
    "# Config\n",
    "save = True\n",
    "EPOCHS = 1\n",
    "optimizer = torch.optim.Adam(model.parameters())\n",
    "loss_fn = nn.BCELoss()\n",
    "epochs = 1\n",
    "\n",
    "# weight initiliaze\n",
    "def initialize_weights(m):\n",
    "    if isinstance(m, nn.Conv2d):\n",
    "        nn.init.kaiming_uniform_(m.weight.data,nonlinearity='relu')\n",
    "        if m.bias is not None:\n",
    "            nn.init.constant_(m.bias.data, 0)\n",
    "    elif isinstance(m, nn.BatchNorm2d):\n",
    "        nn.init.constant_(m.weight.data, 1)\n",
    "        nn.init.constant_(m.bias.data, 0)\n",
    "    elif isinstance(m, nn.Linear):\n",
    "        nn.init.kaiming_uniform_(m.weight.data)\n",
    "        nn.init.constant_(m.bias.data, 0)\n",
    "\n",
    "model.apply(initialize_weights)\n",
    "best_acc = 0.0\n",
    "\n",
    "# save model\n",
    "def save_model(wts):\n",
    "    \"\"\"\n",
    "    Function to save the most accurate model.\n",
    "    Perhpas improvement on evaluation metric\n",
    "    \"\"\"\n",
    "    torch.save(wts, \"../models/resnet18.pth\")\n",
    "    print(\"Saving model weights...\")\n",
    "    \n",
    "for t in range(epochs):\n",
    "    print(f\"Epoch {t+1}\\n-------------------------------\")\n",
    "    train_loop(dataloaders['train'], model, loss_fn, optimizer, USE_GPU=True)\n",
    "    test_loss, correct = test_loop(dataloaders['test'], model, loss_fn, threshold=0.5, USE_GPU=True)\n",
    "    \n",
    "    \n",
    "    if (correct>best_acc) and (save==True):\n",
    "        best_acc = correct\n",
    "        save_model(model.state_dict())\n",
    "    \n",
    "print(\"Done!\")"
   ]
  },
  {
   "cell_type": "code",
   "execution_count": 23,
   "id": "bc874cc8",
   "metadata": {
    "scrolled": true
   },
   "outputs": [
    {
     "data": {
      "text/plain": [
       "Text(0.5, 1.0, 'Loss over training')"
      ]
     },
     "execution_count": 23,
     "metadata": {},
     "output_type": "execute_result"
    },
    {
     "data": {
      "image/png": "[encoded data removed]",
      "text/plain": [
       "<Figure size 432x288 with 1 Axes>"
      ]
     },
     "metadata": {
      "needs_background": "light"
     },
     "output_type": "display_data"
    }
   ],
   "source": [
    "plt.plot(np.arange(0, len(loss_log[:50]), 1), loss_log[:50])\n",
    "plt.ylabel('Loss')\n",
    "plt.xlabel('# of samples')\n",
    "plt.title('Loss over training')"
   ]
  },
  {
   "cell_type": "code",
   "execution_count": 24,
   "id": "annual-material",
   "metadata": {
    "scrolled": true
   },
   "outputs": [
    {
     "name": "stdout",
     "output_type": "stream",
     "text": [
      "Test Error: \n",
      " Accuracy: 100.0%, Avg loss: 0.000000 \n",
      "\n"
     ]
    },
    {
     "data": {
      "text/plain": [
       "(0.0, 1.0)"
      ]
     },
     "execution_count": 24,
     "metadata": {},
     "output_type": "execute_result"
    }
   ],
   "source": [
    "# another test set, to test accuracy\n",
    "dataset_test2 = torch.utils.data.Subset(transformed_dataset, \n",
    "                                        list(range(5000, 5500)))\n",
    "\n",
    "test2_loader = torch.utils.data.DataLoader(dataset_test2,\n",
    "                                          batch_size=batch_s,\n",
    "                                          shuffle=False, collate_fn=collate_fn)\n",
    "\n",
    "test_loop(test2_loader, model, loss_fn, threshold=0.99, USE_GPU=True)"
   ]
  },
  {
   "cell_type": "markdown",
   "id": "seeing-agreement",
   "metadata": {},
   "source": [
    "## Little bit of inference to prove it works"
   ]
  },
  {
   "cell_type": "code",
   "execution_count": 25,
   "id": "amateur-instrument",
   "metadata": {},
   "outputs": [
    {
     "name": "stdout",
     "output_type": "stream",
     "text": [
      "This Image has label: tensor([1., 0., 1., 0., 0., 0., 0., 0., 0., 1., 0., 0., 0., 0., 0., 0., 1., 0.,\n",
      "        0.], dtype=torch.float16)\n"
     ]
    },
    {
     "data": {
      "image/png": "[encoded data removed]",
      "text/plain": [
       "<PIL.Image.Image image mode=RGB size=224x224 at 0x16B0E781130>"
      ]
     },
     "execution_count": 25,
     "metadata": {},
     "output_type": "execute_result"
    }
   ],
   "source": [
    "test_batch = next(iter(test2_loader))\n",
    "print('This Image has label: {}'.format(test_batch[0][1]))\n",
    "# sigle_batch[img ro label][img_n][tile_n]\n",
    "(transforms.ToPILImage(mode='RGB')(test_batch[0][0][:3, :, :]))"
   ]
  },
  {
   "cell_type": "code",
   "execution_count": 26,
   "id": "civilian-judgment",
   "metadata": {},
   "outputs": [
    {
     "name": "stdout",
     "output_type": "stream",
     "text": [
      "tensor([[1.0000e+00, 5.7092e-10, 1.0000e+00, 6.8486e-10, 4.5735e-10, 8.8483e-11,\n",
      "         1.8137e-10, 9.9611e-10, 6.3814e-10, 1.0000e+00, 2.4348e-10, 4.1416e-10,\n",
      "         3.0432e-10, 4.7755e-10, 1.8606e-10, 2.4608e-10, 1.0000e+00, 7.0424e-11,\n",
      "         1.4372e-10]], device='cuda:0')\n"
     ]
    }
   ],
   "source": [
    "X = test_batch[0][0].unsqueeze(0).float()\n",
    "# [N, 19]\n",
    "y = torch.reshape(test_batch[0][1], (1,19))      \n",
    "X = X.cuda()\n",
    "y = y.cuda()\n",
    "\n",
    "with torch.no_grad():\n",
    "    pred = model(X)\n",
    "print(pred)"
   ]
  },
  {
   "cell_type": "markdown",
   "id": "effective-liver",
   "metadata": {},
   "source": [
    "## To Do\n",
    "\n",
    "- Early Stopping + research more weakly labelled data stuff\n",
    "- stratified k folding as currently too easy to train"
   ]
  }
 ],
 "metadata": {
  "kernelspec": {
   "display_name": "Python [conda env:cell]",
   "language": "python",
   "name": "conda-env-cell-py"
  },
  "language_info": {
   "codemirror_mode": {
    "name": "ipython",
    "version": 3
   },
   "file_extension": ".py",
   "mimetype": "text/x-python",
   "name": "python",
   "nbconvert_exporter": "python",
   "pygments_lexer": "ipython3",
   "version": "3.9.2"
  }
 },
 "nbformat": 4,
 "nbformat_minor": 5
}
