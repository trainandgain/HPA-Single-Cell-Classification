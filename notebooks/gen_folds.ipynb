{
 "cells": [
  {
   "cell_type": "code",
   "execution_count": 7,
   "id": "tender-storm",
   "metadata": {},
   "outputs": [],
   "source": [
    "import pandas as pd\n",
    "import numpy as np\n",
    "from skmultilearn.model_selection import IterativeStratification\n",
    "\n",
    "TRAIN_CSV = 'D:/HPA_comp/single_cells/train.csv'\n",
    "\n",
    "df = pd.read_csv(TRAIN_CSV, index_col=0)\n",
    "# Shuffle df to mix up single cell images before stratification\n",
    "df = df.sample(frac=1, random_state=42)\n",
    "df.reset_index(drop=True, inplace=True)"
   ]
  },
  {
   "cell_type": "code",
   "execution_count": 9,
   "id": "spanish-pharmacy",
   "metadata": {},
   "outputs": [],
   "source": [
    "def extract_as_array(str_):\n",
    "            list_ = str_.strip('][').split(', ')\n",
    "            return np.array([int(i) for i in list_])\n",
    "images = df['cell_id'].values\n",
    "targets = df['Label'].apply(extract_as_array).values\n",
    "\n",
    "# Reshape to single arrays\n",
    "img_mat = images.reshape(-1, 1)\n",
    "target_mat = np.vstack(targets)"
   ]
  },
  {
   "cell_type": "code",
   "execution_count": 20,
   "id": "comprehensive-verse",
   "metadata": {},
   "outputs": [],
   "source": [
    "k_fold = IterativeStratification(n_splits=5, order=1)\n",
    "splits = k_fold.split(img_mat, target_mat)\n",
    "\n",
    "df['fold'] = np.nan  # Generate folds column\n",
    "\n",
    "for fold, (_, fold_idxs) in enumerate(splits):\n",
    "    valid_imgs = img_mat[fold_idxs]\n",
    "    df.loc[df['cell_id'].isin(valid_imgs.reshape(-1)), 'fold'] = fold"
   ]
  },
  {
   "cell_type": "code",
   "execution_count": 21,
   "id": "attempted-hungarian",
   "metadata": {},
   "outputs": [
    {
     "data": {
      "text/plain": [
       "0.0    23\n",
       "1.0    23\n",
       "3.0    22\n",
       "2.0    22\n",
       "4.0    22\n",
       "Name: fold, dtype: int64"
      ]
     },
     "execution_count": 21,
     "metadata": {},
     "output_type": "execute_result"
    }
   ],
   "source": [
    "OUT_CSV = 'D:/HPA_comp/single_cells/train_folds.csv'\n",
    "#df.to_csv(OUT_CSV)\n",
    "df['fold'].value_counts()"
   ]
  }
 ],
 "metadata": {
  "kernelspec": {
   "display_name": "Python 3",
   "language": "python",
   "name": "python3"
  },
  "language_info": {
   "codemirror_mode": {
    "name": "ipython",
    "version": 3
   },
   "file_extension": ".py",
   "mimetype": "text/x-python",
   "name": "python",
   "nbconvert_exporter": "python",
   "pygments_lexer": "ipython3",
   "version": "3.9.2"
  }
 },
 "nbformat": 4,
 "nbformat_minor": 5
}
