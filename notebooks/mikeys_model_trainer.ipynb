{
 "cells": [
  {
   "cell_type": "markdown",
   "id": "other-lighting",
   "metadata": {},
   "source": [
    "'''Model trainer for ResNet18'''"
   ]
  },
  {
   "cell_type": "code",
   "execution_count": 3,
   "id": "infinite-result",
   "metadata": {},
   "outputs": [
    {
     "name": "stdout",
     "output_type": "stream",
     "text": [
      "Object `resnet18(pretrained=False)` not found.\n"
     ]
    }
   ],
   "source": [
    "from torchvision.models import resnet18\n",
    "?resnet18(pretrained=False)"
   ]
  },
  {
   "cell_type": "code",
   "execution_count": 4,
   "id": "divine-killing",
   "metadata": {},
   "outputs": [
    {
     "data": {
      "text/plain": [
       "\u001b[1;31mSignature:\u001b[0m \u001b[0mresnet18\u001b[0m\u001b[1;33m(\u001b[0m\u001b[0mpretrained\u001b[0m\u001b[1;33m:\u001b[0m \u001b[0mbool\u001b[0m \u001b[1;33m=\u001b[0m \u001b[1;32mFalse\u001b[0m\u001b[1;33m,\u001b[0m \u001b[0mprogress\u001b[0m\u001b[1;33m:\u001b[0m \u001b[0mbool\u001b[0m \u001b[1;33m=\u001b[0m \u001b[1;32mTrue\u001b[0m\u001b[1;33m,\u001b[0m \u001b[1;33m**\u001b[0m\u001b[0mkwargs\u001b[0m\u001b[1;33m:\u001b[0m \u001b[0mAny\u001b[0m\u001b[1;33m)\u001b[0m \u001b[1;33m->\u001b[0m \u001b[0mtorchvision\u001b[0m\u001b[1;33m.\u001b[0m\u001b[0mmodels\u001b[0m\u001b[1;33m.\u001b[0m\u001b[0mresnet\u001b[0m\u001b[1;33m.\u001b[0m\u001b[0mResNet\u001b[0m\u001b[1;33m\u001b[0m\u001b[1;33m\u001b[0m\u001b[0m\n",
       "\u001b[1;31mDocstring:\u001b[0m\n",
       "ResNet-18 model from\n",
       "`\"Deep Residual Learning for Image Recognition\" <https://arxiv.org/pdf/1512.03385.pdf>`_.\n",
       "\n",
       "Args:\n",
       "    pretrained (bool): If True, returns a model pre-trained on ImageNet\n",
       "    progress (bool): If True, displays a progress bar of the download to stderr\n",
       "\u001b[1;31mFile:\u001b[0m      c:\\users\\micha\\anaconda3\\envs\\cell\\lib\\site-packages\\torchvision\\models\\resnet.py\n",
       "\u001b[1;31mType:\u001b[0m      function\n"
      ]
     },
     "metadata": {},
     "output_type": "display_data"
    }
   ],
   "source": [
    "resnet18?"
   ]
  },
  {
   "cell_type": "code",
   "execution_count": null,
   "id": "weighted-memory",
   "metadata": {},
   "outputs": [],
   "source": [
    "class ResNet18(dyno.model):\n",
    "    def __init__(self, num_classes, pretrained=True):\n",
    "        # Initialise pretrained net, sub-in final fc layer for cell classification\n",
    "        super().__init__()\n",
    "        self.convnet = resnet18(pretrained)\n",
    "        self.dropout = nn.Dropout(0.1)\n",
    "        self.out = nn.Linear(512, num_classes)\n",
    "    \n",
    "    def forward(image, targets=None):\n",
    "        \n",
    "        \n",
    "        if targets is not None:\n",
    "            loss = nn.CrossEntropyLoss()(outputs, targets)\n",
    "            metrics = self.monitor_metrics(outputs, targets)\n",
    "            return outputs, loss, metrics\n",
    "        return outputs, None, None"
   ]
  }
 ],
 "metadata": {
  "kernelspec": {
   "display_name": "Python 3",
   "language": "python",
   "name": "python3"
  },
  "language_info": {
   "codemirror_mode": {
    "name": "ipython",
    "version": 3
   },
   "file_extension": ".py",
   "mimetype": "text/x-python",
   "name": "python",
   "nbconvert_exporter": "python",
   "pygments_lexer": "ipython3",
   "version": "3.9.2"
  }
 },
 "nbformat": 4,
 "nbformat_minor": 5
}
