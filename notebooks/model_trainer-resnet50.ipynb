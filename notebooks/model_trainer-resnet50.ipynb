{
 "cells": [
  {
   "cell_type": "markdown",
   "id": "609d5f3d",
   "metadata": {},
   "source": [
    "# Imports"
   ]
  },
  {
   "cell_type": "code",
   "execution_count": 1,
   "id": "f4a35cc5",
   "metadata": {
    "scrolled": true
   },
   "outputs": [],
   "source": [
    "# imports\n",
    "import pandas as pd\n",
    "import random\n",
    "import matplotlib.pyplot as plt\n",
    "import imageio\n",
    "import numpy as np\n",
    "import glob\n",
    "from skmultilearn.model_selection import IterativeStratification\n",
    "\n",
    "# transformers\n",
    "from torchvision import transforms\n",
    "from skimage.transform import rescale, resize, downscale_local_mean\n",
    "import albumentations\n",
    "\n",
    "# dataset imports\n",
    "import os\n",
    "import torch\n",
    "import torch.utils.data\n",
    "import torchvision\n",
    "import torch\n",
    "import torch.nn as nn\n",
    "\n",
    "# evaluation imports\n",
    "import time\n",
    "from sklearn import metrics\n",
    "\n",
    "# model\n",
    "import copy\n",
    "from torch.utils.data import DataLoader\n",
    "from torchvision.models import resnet50, resnet18\n",
    "import tez\n",
    "from tez.callbacks import EarlyStopping\n",
    "import tqdm\n",
    "from ignite.metrics import Accuracy, Precision, Recall"
   ]
  },
  {
   "cell_type": "code",
   "execution_count": 2,
   "id": "4a9a3da8",
   "metadata": {},
   "outputs": [],
   "source": [
    "CHANNELS = ['red', 'green', 'blue', 'yellow']\n",
    "TRAIN_CSV = '../input/image_subset/cell/train.csv'\n",
    "IMG_DIR = '../input/image_subset/cell/'"
   ]
  },
  {
   "cell_type": "markdown",
   "id": "34f03a05",
   "metadata": {},
   "source": [
    "# Dataset Class\n",
    "\n",
    "Each Image has already been pre segmented, we will then split into n number of folds and train."
   ]
  },
  {
   "cell_type": "code",
   "execution_count": 3,
   "id": "f66afd44",
   "metadata": {},
   "outputs": [],
   "source": [
    "class CellDataset(object):\n",
    "    '''Dataset class to fetch HPA cell-level images\n",
    "    and corresponding weak labels\n",
    "    '''\n",
    "    def __init__(self, images, targets, img_root, augmentations=None):\n",
    "        self.images = images\n",
    "        self.targets = targets\n",
    "        self.img_root = img_root\n",
    "        self.augmentations = augmentations\n",
    "        \n",
    "    def __len__(self):\n",
    "        return len(self.images)\n",
    "    \n",
    "    def __getitem__(self, idx):\n",
    "        img_id = self.images[idx] \n",
    "        img_channels = self._fetch_channels(img_id)\n",
    "        img = self._channels_2_array(img_channels)\n",
    "        img = resize(img, (512, 512))  # Always resize cell images for collate function\n",
    "        # If augmentation pipeline provided, apply augmentations\n",
    "        if self.augmentations:\n",
    "            img = self.augmentations(image=img)['image']\n",
    "        # Adjust to channel first indexing for pytorch (speed reasons)\n",
    "        features = np.transpose(img, (2, 0, 1)).astype(np.float32)\n",
    "        target = self.targets[idx]  # Grab target vector\n",
    "        \n",
    "        return {'image': torch.tensor(features),\n",
    "                'target': torch.tensor(target)}\n",
    "    \n",
    "    def _fetch_channels(self, img_id: str, channel_names=CHANNELS):\n",
    "        'Return absolute path of segmentation channels of a given image id'\n",
    "        base = os.path.join(self.img_root, img_id)\n",
    "        return [base + '_' + i  + '.png' for i in channel_names]\n",
    "                                         \n",
    "    def _channels_2_array(self, img_channels):\n",
    "        'Return 3D array of pixel values of input image channels'\n",
    "        r = imageio.imread(img_channels[0])\n",
    "        g = imageio.imread(img_channels[1])\n",
    "        b = imageio.imread(img_channels[2])\n",
    "        pixel_arr = np.dstack((r, g, b))\n",
    "        return pixel_arr"
   ]
  },
  {
   "cell_type": "markdown",
   "id": "cb9d78cc",
   "metadata": {},
   "source": [
    "# Model Class"
   ]
  },
  {
   "cell_type": "code",
   "execution_count": 4,
   "id": "94484da2",
   "metadata": {
    "scrolled": true
   },
   "outputs": [],
   "source": [
    "class ResNet50(tez.Model):\n",
    "    '''Model class to facilitate transfer learning \n",
    "    from a resnet-18 model\n",
    "    '''\n",
    "    NUM_CLASSES = 19\n",
    "    IMG_DIR = '../input/image_subset/cell/'\n",
    "    DROPOUT_RATE = 0.1\n",
    "    \n",
    "    def __init__(self, train_dl, valid_dl, metric, batch_size=16, pretrained=True):\n",
    "        # Initialise pretrained net and final layers for cell classification\n",
    "        super().__init__()\n",
    "        self.convolutions = nn.Sequential(*(list(resnet50(pretrained).children())[0:-1]))\n",
    "        self.dropout = nn.Dropout(self.DROPOUT_RATE)\n",
    "        self.dense = nn.Linear(2048, self.NUM_CLASSES)\n",
    "        self.out = nn.Sigmoid()\n",
    "        self.loss_fn = nn.BCELoss()\n",
    "        self.metric = metric\n",
    "        \n",
    "        # Below should probably be in tez.Model super class but is a quick hack around\n",
    "        # Training time image augmentation stack\n",
    "        self.train_loader = train_dl\n",
    "        self.valid_loader = valid_dl\n",
    "        \n",
    "    def forward(self, image, target=None):\n",
    "        batch_size = image.shape[0]\n",
    "        \n",
    "        # Extracts 512x1 feature vector from pretrained resnet18 conv layers\n",
    "        x = self.convolutions(image).reshape(batch_size, -1)\n",
    "        # Fully connected dense layer to 19 class output\n",
    "        output = self.dense(self.dropout(x))\n",
    "        # Sigmoid activations on output to infer class probabilities\n",
    "        output_probs = self.out(output)\n",
    "        \n",
    "        if target is not None:\n",
    "            loss = self.loss_fn(output_probs, target.to(torch.float32))  # why to float32???\n",
    "            metrics = self.monitor_metrics(output_probs, target)\n",
    "            return output_probs, loss, metrics\n",
    "        return output_probs, None, None\n",
    "    \n",
    "    def monitor_metrics(self, outputs, targets):\n",
    "        if targets is None:\n",
    "            return {}\n",
    "        try:\n",
    "            self.metric.reset()\n",
    "            outputs = (outputs>0.5).float()\n",
    "            self.metric.update((outputs, targets))\n",
    "            p = self.metric.compute().item()\n",
    "        except:\n",
    "            # if equation numerator or denom is zero\n",
    "            p = 0\n",
    "        return {\"precision\": p}\n",
    "    \n",
    "    def fetch_optimizer(self):\n",
    "        opt = torch.optim.Adam(self.parameters(), lr=3e-4)\n",
    "        return opt\n",
    "    \n",
    "    def fetch_scheduler(self):\n",
    "        sch = torch.optim.lr_scheduler.CosineAnnealingWarmRestarts(\n",
    "            self.optimizer, T_0=10, T_mult=1, eta_min=1e-6, last_epoch=-1\n",
    "        )\n",
    "        return sch"
   ]
  },
  {
   "cell_type": "markdown",
   "id": "bea85d93",
   "metadata": {},
   "source": [
    "# Augmentations\n",
    "\n",
    "### For pixel normalisation\n",
    "\n",
    "#### RGB"
   ]
  },
  {
   "cell_type": "code",
   "execution_count": 5,
   "id": "9012114c",
   "metadata": {},
   "outputs": [],
   "source": [
    "MEAN_CHANNEL_VALUES = (0.07843, 0.05381, 0.06853)  \n",
    "\n",
    "CHANNEL_STD_DEV = ( 0.12131, 0.080155, 0.142555)"
   ]
  },
  {
   "cell_type": "code",
   "execution_count": 6,
   "id": "3ebe64d7",
   "metadata": {},
   "outputs": [],
   "source": [
    "# Image augmentation stack \n",
    "train_aug = albumentations.Compose([\n",
    "    albumentations.augmentations.transforms.Normalize(\n",
    "        mean=MEAN_CHANNEL_VALUES, \n",
    "        std=CHANNEL_STD_DEV, \n",
    "        max_pixel_value= 1.0\n",
    "    ),\n",
    "    albumentations.Transpose(p=0.5),\n",
    "    albumentations.HorizontalFlip(p=0.5),\n",
    "    albumentations.VerticalFlip(p=0.5),\n",
    "])\n",
    "\n",
    "valid_aug = albumentations.Compose([\n",
    "    albumentations.augmentations.transforms.Normalize(\n",
    "        mean=MEAN_CHANNEL_VALUES, \n",
    "        std=CHANNEL_STD_DEV, \n",
    "        max_pixel_value= 1.0\n",
    "    )\n",
    "])"
   ]
  },
  {
   "cell_type": "markdown",
   "id": "2afe6832",
   "metadata": {},
   "source": [
    "# Stratified-K-Folding and Splits"
   ]
  },
  {
   "cell_type": "code",
   "execution_count": 7,
   "id": "b2e08600",
   "metadata": {},
   "outputs": [],
   "source": [
    "def create_split_df_cell(df, nfolds=2, order=2):\n",
    "    # deep copy so changes can propogate\n",
    "    df_copy = copy.deepcopy(df)\n",
    "    # define label rows\n",
    "    labels = [str(i) for i in range(19)]\n",
    "        # add OHE columns\n",
    "    for i in range(19):\n",
    "        # Label column contains string not np.array\n",
    "        df_copy['{}'.format(i)] = df.Label.apply(lambda x: (int(x.strip('[]').replace(', ', '')[i])))\n",
    "        \n",
    "    df_copy = df_copy.set_index(\"cell_id\")\n",
    "    \n",
    "    split_df = df_copy.iloc[:][labels]\n",
    "    \n",
    "    split_df = split_df.groupby(split_df.index).sum() \n",
    "\n",
    "    X, y = split_df.index.values, split_df.values\n",
    "\n",
    "    k_fold = IterativeStratification(n_splits=nfolds, order=order)\n",
    "\n",
    "    splits = list(k_fold.split(X, y))\n",
    "\n",
    "    fold_splits = np.zeros(df.shape[0]).astype(np.int32)\n",
    "\n",
    "    for i in range(nfolds):\n",
    "        fold_splits[splits[i][1]] = i\n",
    "\n",
    "    split_df['Split'] = fold_splits    \n",
    "\n",
    "    df_folds = []\n",
    "\n",
    "    for fold in range(nfolds):\n",
    "\n",
    "        df_fold = split_df.copy()\n",
    "            \n",
    "        train_df = df_fold[df_fold.Split != fold].drop('Split', axis=1).reset_index()\n",
    "        \n",
    "        val_df = df_fold[df_fold.Split == fold].drop('Split', axis=1).reset_index()\n",
    "        \n",
    "        df_folds.append((train_df, val_df))\n",
    "\n",
    "    return df_folds"
   ]
  },
  {
   "cell_type": "code",
   "execution_count": 8,
   "id": "817b1341",
   "metadata": {},
   "outputs": [],
   "source": [
    "def get_split_dataloaders(split, batch_size, train_aug=None, valid_aug=None):\n",
    "    labels = [str(i) for i in range(19)]\n",
    "    train_df, val_df = split\n",
    "    # dataset class with augmentations\n",
    "    train_ds = CellDataset(train_df.cell_id.values, \n",
    "                           np.array(train_df.loc[:, labels]),\n",
    "                           IMG_DIR,\n",
    "                           augmentations=train_aug)\n",
    "    \n",
    "    val_ds = CellDataset(val_df.cell_id.values, \n",
    "                         np.array(val_df.loc[:, labels]),\n",
    "                         IMG_DIR,\n",
    "                         augmentations=valid_aug)\n",
    "    \n",
    "    # dataloaders for each split\n",
    "    train_dl = DataLoader(train_ds, batch_size, shuffle=True)\n",
    "    val_dl = DataLoader(val_ds, batch_size)\n",
    "    # return splits dataloaders\n",
    "    return train_dl, val_dl"
   ]
  },
  {
   "cell_type": "code",
   "execution_count": 9,
   "id": "7ea02ece",
   "metadata": {
    "scrolled": false
   },
   "outputs": [
    {
     "name": "stdout",
     "output_type": "stream",
     "text": [
      "Reading CSV and devising folds...\n",
      "Done!\n"
     ]
    }
   ],
   "source": [
    "print('Reading CSV and devising folds...')\n",
    "# read training csv\n",
    "df = pd.read_csv(TRAIN_CSV)\n",
    "# get stratified k fold splits\n",
    "splits = create_split_df_cell(df, 2, order=2)\n",
    "print('Done!')"
   ]
  },
  {
   "cell_type": "code",
   "execution_count": null,
   "id": "7277713a",
   "metadata": {
    "scrolled": true
   },
   "outputs": [
    {
     "name": "stdout",
     "output_type": "stream",
     "text": [
      "Fold 0\n"
     ]
    },
    {
     "name": "stderr",
     "output_type": "stream",
     "text": [
      "100%|██████████████| 61228/61228 [9:46:26<00:00,  1.74it/s, loss=0.216, precision=0.619, stage=train]\n",
      " 57%|██████▊     | 34874/61240 [3:13:36<2:19:58,  3.14it/s, loss=0.231, precision=0.498, stage=valid]"
     ]
    }
   ],
   "source": [
    "batch_size = 4\n",
    "metric = Precision()\n",
    "for i, split in enumerate(splits):\n",
    "    metric.reset()\n",
    "    print('Fold {}'.format(i))\n",
    "    # generate dataloaders for each fold\n",
    "    train_dl, val_dl = get_split_dataloaders(split, batch_size)\n",
    "                                             #train_aug, valid_aug)\n",
    "    # Init model \n",
    "    model = ResNet50(train_dl,\n",
    "                     val_dl,\n",
    "                     metric,\n",
    "                     batch_size=16, \n",
    "                     pretrained=False)\n",
    "\n",
    "    # Early stopping\n",
    "    es = EarlyStopping(\n",
    "        monitor='valid_loss',\n",
    "        model_path='../models/early_split_{}.bin'.format(i),\n",
    "        patience=3,\n",
    "        mode='min',\n",
    "    )\n",
    "\n",
    "    # Model training\n",
    "    model.fit(\n",
    "        train_dataset=None,  # dataset inits are overriden in the model class above\n",
    "        valid_dataset=None,  # otherwise tez breaks for me when it tries to do this itself\n",
    "        train_bs=16,\n",
    "        device='cuda', \n",
    "        callbacks=[es],\n",
    "        epochs=1\n",
    "    )\n",
    "\n",
    "    # Save model (with optimizer and scheduler for future usage)\n",
    "    model.save('../models/final_final_model_split_{}.bin'.format(i))"
   ]
  }
 ],
 "metadata": {
  "kernelspec": {
   "display_name": "Python [conda env:cell]",
   "language": "python",
   "name": "conda-env-cell-py"
  },
  "language_info": {
   "codemirror_mode": {
    "name": "ipython",
    "version": 3
   },
   "file_extension": ".py",
   "mimetype": "text/x-python",
   "name": "python",
   "nbconvert_exporter": "python",
   "pygments_lexer": "ipython3",
   "version": "3.9.2"
  }
 },
 "nbformat": 4,
 "nbformat_minor": 5
}
